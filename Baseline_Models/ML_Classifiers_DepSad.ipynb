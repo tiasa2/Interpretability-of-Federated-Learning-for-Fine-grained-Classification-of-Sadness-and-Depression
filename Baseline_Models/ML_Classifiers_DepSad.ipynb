{
  "nbformat": 4,
  "nbformat_minor": 0,
  "metadata": {
    "colab": {
      "name": "ML_Classifiers_DepSad.ipynb",
      "provenance": [],
      "collapsed_sections": []
    },
    "kernelspec": {
      "name": "python3",
      "display_name": "Python 3"
    },
    "accelerator": "GPU"
  },
  "cells": [
    {
      "cell_type": "code",
      "metadata": {
        "id": "HKEX8jZ6K9Mf"
      },
      "source": [
        "import pandas as pd, numpy as np, re, time\n",
        "from nltk.stem.porter import PorterStemmer\n",
        "\n",
        "from sklearn.model_selection import train_test_split\n",
        "from sklearn.metrics import confusion_matrix\n",
        "from sklearn.svm import LinearSVC\n",
        "from sklearn.model_selection import cross_val_score\n",
        "from sklearn.naive_bayes import GaussianNB\n",
        "from sklearn.linear_model import LogisticRegression\n",
        "from sklearn.ensemble import RandomForestClassifier"
      ],
      "execution_count": 1,
      "outputs": []
    },
    {
      "cell_type": "code",
      "metadata": {
        "id": "iK1F8mjGLRDj"
      },
      "source": [
        "# Loading data from json file\n",
        "data = pd.read_csv(\"ACL_FINAL_Data.csv\")"
      ],
      "execution_count": 10,
      "outputs": []
    },
    {
      "cell_type": "code",
      "metadata": {
        "id": "riksTdPeLYgZ",
        "colab": {
          "base_uri": "https://localhost:8080/",
          "height": 514
        },
        "outputId": "7a476db9-c307-416d-c860-7b9d7400697b"
      },
      "source": [
        "data.head(15)"
      ],
      "execution_count": 11,
      "outputs": [
        {
          "output_type": "execute_result",
          "data": {
            "text/plain": [
              "    Unnamed: 0                                              tweet  target\n",
              "0          251  i feel guilty i wont be able to give this litt...       0\n",
              "1         2295  There’s no point in even trying anymore. It’s ...       1\n",
              "2          918  i was taught to complain and feel unhappy but ...       0\n",
              "3         1990  There are probably serial killers who sleep ea...       1\n",
              "4         1241  His brown , nearly auburn hair clung to his sc...       0\n",
              "5         1724               im feeling like the lunches are dull       0\n",
              "6          726  i feel rotten but no amount of suggesting that...       0\n",
              "7         1242  I am sad because some relations to friends are...       0\n",
              "8         1132  The loss of a person I loved very much is some...       0\n",
              "9          706  i forgive myself that i have accepted and allo...       0\n",
              "10        1843  i still feel stupid to be in that class this i...       0\n",
              "11         763  i feel ungrateful for wanting more but the tru...       0\n",
              "12         225                        i do that i feel ashamed of       0\n",
              "13         494  im feeling really sentimental about things tha...       0\n",
              "14        2923                  I don’t want to bother my friends       1"
            ],
            "text/html": [
              "\n",
              "  <div id=\"df-3e9bb65e-7098-437b-8bb2-c946703b69a1\">\n",
              "    <div class=\"colab-df-container\">\n",
              "      <div>\n",
              "<style scoped>\n",
              "    .dataframe tbody tr th:only-of-type {\n",
              "        vertical-align: middle;\n",
              "    }\n",
              "\n",
              "    .dataframe tbody tr th {\n",
              "        vertical-align: top;\n",
              "    }\n",
              "\n",
              "    .dataframe thead th {\n",
              "        text-align: right;\n",
              "    }\n",
              "</style>\n",
              "<table border=\"1\" class=\"dataframe\">\n",
              "  <thead>\n",
              "    <tr style=\"text-align: right;\">\n",
              "      <th></th>\n",
              "      <th>Unnamed: 0</th>\n",
              "      <th>tweet</th>\n",
              "      <th>target</th>\n",
              "    </tr>\n",
              "  </thead>\n",
              "  <tbody>\n",
              "    <tr>\n",
              "      <th>0</th>\n",
              "      <td>251</td>\n",
              "      <td>i feel guilty i wont be able to give this litt...</td>\n",
              "      <td>0</td>\n",
              "    </tr>\n",
              "    <tr>\n",
              "      <th>1</th>\n",
              "      <td>2295</td>\n",
              "      <td>There’s no point in even trying anymore. It’s ...</td>\n",
              "      <td>1</td>\n",
              "    </tr>\n",
              "    <tr>\n",
              "      <th>2</th>\n",
              "      <td>918</td>\n",
              "      <td>i was taught to complain and feel unhappy but ...</td>\n",
              "      <td>0</td>\n",
              "    </tr>\n",
              "    <tr>\n",
              "      <th>3</th>\n",
              "      <td>1990</td>\n",
              "      <td>There are probably serial killers who sleep ea...</td>\n",
              "      <td>1</td>\n",
              "    </tr>\n",
              "    <tr>\n",
              "      <th>4</th>\n",
              "      <td>1241</td>\n",
              "      <td>His brown , nearly auburn hair clung to his sc...</td>\n",
              "      <td>0</td>\n",
              "    </tr>\n",
              "    <tr>\n",
              "      <th>5</th>\n",
              "      <td>1724</td>\n",
              "      <td>im feeling like the lunches are dull</td>\n",
              "      <td>0</td>\n",
              "    </tr>\n",
              "    <tr>\n",
              "      <th>6</th>\n",
              "      <td>726</td>\n",
              "      <td>i feel rotten but no amount of suggesting that...</td>\n",
              "      <td>0</td>\n",
              "    </tr>\n",
              "    <tr>\n",
              "      <th>7</th>\n",
              "      <td>1242</td>\n",
              "      <td>I am sad because some relations to friends are...</td>\n",
              "      <td>0</td>\n",
              "    </tr>\n",
              "    <tr>\n",
              "      <th>8</th>\n",
              "      <td>1132</td>\n",
              "      <td>The loss of a person I loved very much is some...</td>\n",
              "      <td>0</td>\n",
              "    </tr>\n",
              "    <tr>\n",
              "      <th>9</th>\n",
              "      <td>706</td>\n",
              "      <td>i forgive myself that i have accepted and allo...</td>\n",
              "      <td>0</td>\n",
              "    </tr>\n",
              "    <tr>\n",
              "      <th>10</th>\n",
              "      <td>1843</td>\n",
              "      <td>i still feel stupid to be in that class this i...</td>\n",
              "      <td>0</td>\n",
              "    </tr>\n",
              "    <tr>\n",
              "      <th>11</th>\n",
              "      <td>763</td>\n",
              "      <td>i feel ungrateful for wanting more but the tru...</td>\n",
              "      <td>0</td>\n",
              "    </tr>\n",
              "    <tr>\n",
              "      <th>12</th>\n",
              "      <td>225</td>\n",
              "      <td>i do that i feel ashamed of</td>\n",
              "      <td>0</td>\n",
              "    </tr>\n",
              "    <tr>\n",
              "      <th>13</th>\n",
              "      <td>494</td>\n",
              "      <td>im feeling really sentimental about things tha...</td>\n",
              "      <td>0</td>\n",
              "    </tr>\n",
              "    <tr>\n",
              "      <th>14</th>\n",
              "      <td>2923</td>\n",
              "      <td>I don’t want to bother my friends</td>\n",
              "      <td>1</td>\n",
              "    </tr>\n",
              "  </tbody>\n",
              "</table>\n",
              "</div>\n",
              "      <button class=\"colab-df-convert\" onclick=\"convertToInteractive('df-3e9bb65e-7098-437b-8bb2-c946703b69a1')\"\n",
              "              title=\"Convert this dataframe to an interactive table.\"\n",
              "              style=\"display:none;\">\n",
              "        \n",
              "  <svg xmlns=\"http://www.w3.org/2000/svg\" height=\"24px\"viewBox=\"0 0 24 24\"\n",
              "       width=\"24px\">\n",
              "    <path d=\"M0 0h24v24H0V0z\" fill=\"none\"/>\n",
              "    <path d=\"M18.56 5.44l.94 2.06.94-2.06 2.06-.94-2.06-.94-.94-2.06-.94 2.06-2.06.94zm-11 1L8.5 8.5l.94-2.06 2.06-.94-2.06-.94L8.5 2.5l-.94 2.06-2.06.94zm10 10l.94 2.06.94-2.06 2.06-.94-2.06-.94-.94-2.06-.94 2.06-2.06.94z\"/><path d=\"M17.41 7.96l-1.37-1.37c-.4-.4-.92-.59-1.43-.59-.52 0-1.04.2-1.43.59L10.3 9.45l-7.72 7.72c-.78.78-.78 2.05 0 2.83L4 21.41c.39.39.9.59 1.41.59.51 0 1.02-.2 1.41-.59l7.78-7.78 2.81-2.81c.8-.78.8-2.07 0-2.86zM5.41 20L4 18.59l7.72-7.72 1.47 1.35L5.41 20z\"/>\n",
              "  </svg>\n",
              "      </button>\n",
              "      \n",
              "  <style>\n",
              "    .colab-df-container {\n",
              "      display:flex;\n",
              "      flex-wrap:wrap;\n",
              "      gap: 12px;\n",
              "    }\n",
              "\n",
              "    .colab-df-convert {\n",
              "      background-color: #E8F0FE;\n",
              "      border: none;\n",
              "      border-radius: 50%;\n",
              "      cursor: pointer;\n",
              "      display: none;\n",
              "      fill: #1967D2;\n",
              "      height: 32px;\n",
              "      padding: 0 0 0 0;\n",
              "      width: 32px;\n",
              "    }\n",
              "\n",
              "    .colab-df-convert:hover {\n",
              "      background-color: #E2EBFA;\n",
              "      box-shadow: 0px 1px 2px rgba(60, 64, 67, 0.3), 0px 1px 3px 1px rgba(60, 64, 67, 0.15);\n",
              "      fill: #174EA6;\n",
              "    }\n",
              "\n",
              "    [theme=dark] .colab-df-convert {\n",
              "      background-color: #3B4455;\n",
              "      fill: #D2E3FC;\n",
              "    }\n",
              "\n",
              "    [theme=dark] .colab-df-convert:hover {\n",
              "      background-color: #434B5C;\n",
              "      box-shadow: 0px 1px 3px 1px rgba(0, 0, 0, 0.15);\n",
              "      filter: drop-shadow(0px 1px 2px rgba(0, 0, 0, 0.3));\n",
              "      fill: #FFFFFF;\n",
              "    }\n",
              "  </style>\n",
              "\n",
              "      <script>\n",
              "        const buttonEl =\n",
              "          document.querySelector('#df-3e9bb65e-7098-437b-8bb2-c946703b69a1 button.colab-df-convert');\n",
              "        buttonEl.style.display =\n",
              "          google.colab.kernel.accessAllowed ? 'block' : 'none';\n",
              "\n",
              "        async function convertToInteractive(key) {\n",
              "          const element = document.querySelector('#df-3e9bb65e-7098-437b-8bb2-c946703b69a1');\n",
              "          const dataTable =\n",
              "            await google.colab.kernel.invokeFunction('convertToInteractive',\n",
              "                                                     [key], {});\n",
              "          if (!dataTable) return;\n",
              "\n",
              "          const docLinkHtml = 'Like what you see? Visit the ' +\n",
              "            '<a target=\"_blank\" href=https://colab.research.google.com/notebooks/data_table.ipynb>data table notebook</a>'\n",
              "            + ' to learn more about interactive tables.';\n",
              "          element.innerHTML = '';\n",
              "          dataTable['output_type'] = 'display_data';\n",
              "          await google.colab.output.renderOutput(dataTable, element);\n",
              "          const docLink = document.createElement('div');\n",
              "          docLink.innerHTML = docLinkHtml;\n",
              "          element.appendChild(docLink);\n",
              "        }\n",
              "      </script>\n",
              "    </div>\n",
              "  </div>\n",
              "  "
            ]
          },
          "metadata": {},
          "execution_count": 11
        }
      ]
    },
    {
      "cell_type": "code",
      "source": [
        "data.rename(columns = {'tweet':'Text', 'target':'Label',\n",
        "                              't20':'T20'}, inplace = True)"
      ],
      "metadata": {
        "id": "QMZDXqWeirmO"
      },
      "execution_count": 12,
      "outputs": []
    },
    {
      "cell_type": "code",
      "metadata": {
        "id": "MA2CzD8Q-tEi"
      },
      "source": [
        "import matplotlib.pyplot as plt\n",
        "from wordcloud import WordCloud, STOPWORDS"
      ],
      "execution_count": 13,
      "outputs": []
    },
    {
      "cell_type": "code",
      "metadata": {
        "colab": {
          "base_uri": "https://localhost:8080/",
          "height": 198
        },
        "id": "xpEgQeTN-vO_",
        "outputId": "ff970896-b695-4284-c326-2445fc3f1990"
      },
      "source": [
        "text = data['Text'].values \n",
        "\n",
        "wordcloud = WordCloud().generate(str(text))\n",
        "\n",
        "plt.imshow(wordcloud)\n",
        "plt.axis(\"off\")\n",
        "plt.show()"
      ],
      "execution_count": 14,
      "outputs": [
        {
          "output_type": "display_data",
          "data": {
            "text/plain": [
              "<Figure size 432x288 with 1 Axes>"
            ],
            "image/png": "[encoded data removed]"
          },
          "metadata": {
            "needs_background": "light"
          }
        }
      ]
    },
    {
      "cell_type": "code",
      "metadata": {
        "colab": {
          "base_uri": "https://localhost:8080/",
          "height": 268
        },
        "id": "NxCYQvMc_Zgt",
        "outputId": "3480c321-fbc9-491b-fddb-abf7dff14f07"
      },
      "source": [
        "#Visualization\n",
        "sh=0\n",
        "for i in range(len(data[\"Label\"])):\n",
        "    if data[\"Label\"].iloc[i]==1:\n",
        "        sh+=1\n",
        "normal=len(data[\"Label\"])-sh\n",
        "label_values={\"Depressing\" : sh, \"Sad\" : normal}\n",
        "plt.bar(label_values.keys(),label_values.values(),align=\"center\")\n",
        "plt.ylabel(\"Number of Text\")\n",
        "plt.show()"
      ],
      "execution_count": 16,
      "outputs": [
        {
          "output_type": "display_data",
          "data": {
            "text/plain": [
              "<Figure size 432x288 with 1 Axes>"
            ],
            "image/png": "[encoded data removed]"
          },
          "metadata": {
            "needs_background": "light"
          }
        }
      ]
    },
    {
      "cell_type": "code",
      "metadata": {
        "colab": {
          "base_uri": "https://localhost:8080/"
        },
        "id": "vmaBGE6w_4B3",
        "outputId": "4b93d9c8-251b-4830-e84f-6ab1ed78b6b8"
      },
      "source": [
        "print(\"No. of Label 1 tweets\")\n",
        "print(len(data[data[\"Label\"].isin([1])]))\n",
        "print(\"No. of Label 0 tweets\")\n",
        "print(len(data[data[\"Label\"].isin([0])]))\n",
        "print(\"Class Balance Ratio\")\n",
        "print((len(data[data[\"Label\"].isin([1])]))/len(data))"
      ],
      "execution_count": 17,
      "outputs": [
        {
          "output_type": "stream",
          "name": "stdout",
          "text": [
            "No. of Label 1 tweets\n",
            "1342\n",
            "No. of Label 0 tweets\n",
            "1914\n",
            "Class Balance Ratio\n",
            "0.41216216216216217\n"
          ]
        }
      ]
    },
    {
      "cell_type": "code",
      "metadata": {
        "id": "JWVWtg62Lpu3"
      },
      "source": [
        "# Getting features and labels\n",
        "features = data['Text']\n",
        "labels = data['Label']"
      ],
      "execution_count": 18,
      "outputs": []
    },
    {
      "cell_type": "code",
      "metadata": {
        "id": "AtuLxBHEL0x7"
      },
      "source": [
        "# Stemming our data\n",
        "ps = PorterStemmer()\n",
        "features = features.apply(lambda x: x.split())\n",
        "features = features.apply(lambda x : ' '.join([ps.stem(word) for word in x]))"
      ],
      "execution_count": 19,
      "outputs": []
    },
    {
      "cell_type": "code",
      "metadata": {
        "id": "emV6YfwVL7nm"
      },
      "source": [
        "# Vectorizing the data with maximum of 5000 features\n",
        "from sklearn.feature_extraction.text import TfidfVectorizer\n",
        "tv = TfidfVectorizer(max_features = 5000)\n",
        "features = list(features)\n",
        "features = tv.fit_transform(features).toarray()"
      ],
      "execution_count": 20,
      "outputs": []
    },
    {
      "cell_type": "code",
      "metadata": {
        "id": "GzkE14HFL9ko"
      },
      "source": [
        "# Getting training and testing data\n",
        "features_train, features_test, labels_train, labels_test = train_test_split(features, labels, test_size = 0.2, random_state = 0)"
      ],
      "execution_count": 21,
      "outputs": []
    },
    {
      "cell_type": "code",
      "metadata": {
        "id": "y0D7teR6L_oO",
        "colab": {
          "base_uri": "https://localhost:8080/"
        },
        "outputId": "f477cf10-cee6-4ce5-ca97-1a1783a06602"
      },
      "source": [
        "# Using linear support vector classifier\n",
        "lsvc = LinearSVC()\n",
        "# training the model\n",
        "lsvc.fit(features_train, labels_train)\n",
        "# getting the score of train and test data\n",
        "print(lsvc.score(features_train, labels_train)) \n",
        "print(lsvc.score(features_test, labels_test))\n",
        "y_pred = lsvc.predict(features_test)\n",
        "print (\"Loss\")"
      ],
      "execution_count": 22,
      "outputs": [
        {
          "output_type": "stream",
          "name": "stdout",
          "text": [
            "0.9903993855606759\n",
            "0.9049079754601227\n",
            "Loss\n"
          ]
        }
      ]
    },
    {
      "cell_type": "code",
      "metadata": {
        "colab": {
          "base_uri": "https://localhost:8080/"
        },
        "id": "tYWes4z76vjq",
        "outputId": "8633f2c1-9942-4980-c849-d15cce0fa270"
      },
      "source": [
        "from sklearn.metrics import f1_score\n",
        "print(f1_score(labels_test, y_pred, average='macro'))\n",
        "print(f1_score(labels_test, y_pred, average='micro'))\n",
        "print(f1_score(labels_test, y_pred, average='weighted'))\n",
        "print(f1_score(labels_test, y_pred, average=None))\n",
        "print(f1_score(labels_test, y_pred, zero_division=1))"
      ],
      "execution_count": 23,
      "outputs": [
        {
          "output_type": "stream",
          "name": "stdout",
          "text": [
            "0.9024253659290156\n",
            "0.9049079754601227\n",
            "0.9047170054961914\n",
            "[0.91798942 0.88686131]\n",
            "0.8868613138686132\n"
          ]
        }
      ]
    },
    {
      "cell_type": "code",
      "metadata": {
        "colab": {
          "base_uri": "https://localhost:8080/"
        },
        "id": "1SfLfeRG7emL",
        "outputId": "f9a26845-c544-4a76-c987-29737c5aef3e"
      },
      "source": [
        "\n",
        "from sklearn.metrics import recall_score\n",
        "print(recall_score(labels_test, y_pred, average='macro'))\n",
        "print(recall_score(labels_test, y_pred, average='micro'))\n",
        "print(recall_score(labels_test, y_pred, average='weighted'))\n",
        "print(recall_score(labels_test, y_pred, average=None))\n",
        "print(recall_score(labels_test, y_pred, average=None, zero_division=1))"
      ],
      "execution_count": 24,
      "outputs": [
        {
          "output_type": "stream",
          "name": "stdout",
          "text": [
            "0.9009541030277383\n",
            "0.9049079754601227\n",
            "0.9049079754601227\n",
            "[0.92780749 0.87410072]\n",
            "[0.92780749 0.87410072]\n"
          ]
        }
      ]
    },
    {
      "cell_type": "code",
      "metadata": {
        "colab": {
          "base_uri": "https://localhost:8080/"
        },
        "id": "gAGVmx6b72nc",
        "outputId": "32f9f6e9-2984-403c-c09b-e69bdeaeed2a"
      },
      "source": [
        "from sklearn.metrics import precision_score\n",
        "print(precision_score(labels_test, y_pred, average='macro'))\n",
        "print(precision_score(labels_test, y_pred, average='micro'))\n",
        "print(precision_score(labels_test, y_pred, average='weighted'))\n",
        "print(precision_score(labels_test, y_pred, average=None))\n",
        "print(precision_score(labels_test, y_pred, average=None, zero_division=1))"
      ],
      "execution_count": 25,
      "outputs": [
        {
          "output_type": "stream",
          "name": "stdout",
          "text": [
            "0.9041884816753927\n",
            "0.9049079754601227\n",
            "0.9048051906337327\n",
            "[0.90837696 0.9       ]\n",
            "[0.90837696 0.9       ]\n"
          ]
        }
      ]
    },
    {
      "cell_type": "code",
      "metadata": {
        "id": "8Baif6iIMCpu",
        "colab": {
          "base_uri": "https://localhost:8080/"
        },
        "outputId": "f1f3b045-e1bf-414f-f1fb-6bc648afe9e1"
      },
      "source": [
        "# Using Gaussuan Naive Bayes\n",
        "gnb = GaussianNB()\n",
        "gnb.fit(features_train, labels_train)\n",
        "print(gnb.score(features_train, labels_train))  \n",
        "print(gnb.score(features_test, labels_test))\n",
        "y_pred = gnb.predict(features_test)"
      ],
      "execution_count": 26,
      "outputs": [
        {
          "output_type": "stream",
          "name": "stdout",
          "text": [
            "0.8759600614439325\n",
            "0.7193251533742331\n"
          ]
        }
      ]
    },
    {
      "cell_type": "code",
      "metadata": {
        "colab": {
          "base_uri": "https://localhost:8080/"
        },
        "id": "AchM7bsu8WeO",
        "outputId": "73800277-4614-4538-d37e-4c2ec3ae0b6e"
      },
      "source": [
        "from sklearn.metrics import f1_score\n",
        "print(f1_score(labels_test, y_pred, average='macro'))\n",
        "print(f1_score(labels_test, y_pred, average='micro'))\n",
        "print(f1_score(labels_test, y_pred, average='weighted'))\n",
        "print(f1_score(labels_test, y_pred, average=None))\n",
        "print(f1_score(labels_test, y_pred, zero_division=1))"
      ],
      "execution_count": 27,
      "outputs": [
        {
          "output_type": "stream",
          "name": "stdout",
          "text": [
            "0.719292797402689\n",
            "0.7193251533742331\n",
            "0.7197365364410077\n",
            "[0.72230653 0.71627907]\n",
            "0.7162790697674419\n"
          ]
        }
      ]
    },
    {
      "cell_type": "code",
      "metadata": {
        "colab": {
          "base_uri": "https://localhost:8080/"
        },
        "id": "W2ua_kW78aRd",
        "outputId": "a2300e54-14c6-4104-da21-15cfc4dd61b0"
      },
      "source": [
        "from sklearn.metrics import recall_score\n",
        "print(recall_score(labels_test, y_pred, average='macro'))\n",
        "print(recall_score(labels_test, y_pred, average='micro'))\n",
        "print(recall_score(labels_test, y_pred, average='weighted'))\n",
        "print(recall_score(labels_test, y_pred, average=None))\n",
        "print(recall_score(labels_test, y_pred, average=None, zero_division=1))"
      ],
      "execution_count": 28,
      "outputs": [
        {
          "output_type": "stream",
          "name": "stdout",
          "text": [
            "0.7336494440810988\n",
            "0.7193251533742331\n",
            "0.7193251533742331\n",
            "[0.63636364 0.83093525]\n",
            "[0.63636364 0.83093525]\n"
          ]
        }
      ]
    },
    {
      "cell_type": "code",
      "metadata": {
        "colab": {
          "base_uri": "https://localhost:8080/"
        },
        "id": "QNX-CKH28d5O",
        "outputId": "c2953f09-3346-44f7-8d55-9a7b26579276"
      },
      "source": [
        "from sklearn.metrics import precision_score\n",
        "print(precision_score(labels_test, y_pred, average='macro'))\n",
        "print(precision_score(labels_test, y_pred, average='micro'))\n",
        "print(precision_score(labels_test, y_pred, average='weighted'))\n",
        "print(precision_score(labels_test, y_pred, average=None))\n",
        "print(precision_score(labels_test, y_pred, average=None, zero_division=1))"
      ],
      "execution_count": 29,
      "outputs": [
        {
          "output_type": "stream",
          "name": "stdout",
          "text": [
            "0.7322577561068885\n",
            "0.7193251533742331\n",
            "0.7473983641841436\n",
            "[0.83508772 0.62942779]\n",
            "[0.83508772 0.62942779]\n"
          ]
        }
      ]
    },
    {
      "cell_type": "code",
      "metadata": {
        "id": "b7FmT1K2ME_u",
        "colab": {
          "base_uri": "https://localhost:8080/"
        },
        "outputId": "c16f6d81-3b7c-4fd1-c5e5-6c0fa828478a"
      },
      "source": [
        "# Logistic Regression\n",
        "lr = LogisticRegression()\n",
        "lr.fit(features_train, labels_train)\n",
        "print(lr.score(features_train, labels_train))  \n",
        "print(lr.score(features_test, labels_test))\n",
        "y_pred = lr.predict(features_test)"
      ],
      "execution_count": 30,
      "outputs": [
        {
          "output_type": "stream",
          "name": "stdout",
          "text": [
            "0.9412442396313364\n",
            "0.9033742331288344\n"
          ]
        }
      ]
    },
    {
      "cell_type": "code",
      "metadata": {
        "colab": {
          "base_uri": "https://localhost:8080/"
        },
        "id": "GXBRQZcL8m2o",
        "outputId": "9b441c4c-0912-4881-80e6-f200760da770"
      },
      "source": [
        "from sklearn.metrics import f1_score\n",
        "print(f1_score(labels_test, y_pred, average='macro'))\n",
        "print(f1_score(labels_test, y_pred, average='micro'))\n",
        "print(f1_score(labels_test, y_pred, average='weighted'))\n",
        "print(f1_score(labels_test, y_pred, average=None))\n",
        "print(f1_score(labels_test, y_pred, zero_division=1))"
      ],
      "execution_count": 31,
      "outputs": [
        {
          "output_type": "stream",
          "name": "stdout",
          "text": [
            "0.9000445317233776\n",
            "0.9033742331288344\n",
            "0.9027306773950067\n",
            "[0.91828794 0.88180113]\n",
            "0.8818011257035647\n"
          ]
        }
      ]
    },
    {
      "cell_type": "code",
      "metadata": {
        "colab": {
          "base_uri": "https://localhost:8080/"
        },
        "id": "E3i8pGI38pTZ",
        "outputId": "a41ac9ce-7eb7-4163-b73f-9e9beee57046"
      },
      "source": [
        "from sklearn.metrics import recall_score\n",
        "print(recall_score(labels_test, y_pred, average='macro'))\n",
        "print(recall_score(labels_test, y_pred, average='micro'))\n",
        "print(recall_score(labels_test, y_pred, average='weighted'))\n",
        "print(recall_score(labels_test, y_pred, average=None))\n",
        "print(recall_score(labels_test, y_pred, average=None, zero_division=1))"
      ],
      "execution_count": 32,
      "outputs": [
        {
          "output_type": "stream",
          "name": "stdout",
          "text": [
            "0.8959239025891585\n",
            "0.9033742331288344\n",
            "0.9033742331288344\n",
            "[0.94652406 0.84532374]\n",
            "[0.94652406 0.84532374]\n"
          ]
        }
      ]
    },
    {
      "cell_type": "code",
      "metadata": {
        "colab": {
          "base_uri": "https://localhost:8080/"
        },
        "id": "JDmsr2Bk8rae",
        "outputId": "d40b8e98-cce4-4147-a7d6-c09a8af90742"
      },
      "source": [
        "from sklearn.metrics import precision_score\n",
        "print(precision_score(labels_test, y_pred, average='macro'))\n",
        "print(precision_score(labels_test, y_pred, average='micro'))\n",
        "print(precision_score(labels_test, y_pred, average='weighted'))\n",
        "print(precision_score(labels_test, y_pred, average=None))\n",
        "print(precision_score(labels_test, y_pred, average=None, zero_division=1))"
      ],
      "execution_count": 33,
      "outputs": [
        {
          "output_type": "stream",
          "name": "stdout",
          "text": [
            "0.9066281424408554\n",
            "0.9033742331288344\n",
            "0.9044283164270946\n",
            "[0.89168766 0.92156863]\n",
            "[0.89168766 0.92156863]\n"
          ]
        }
      ]
    },
    {
      "cell_type": "code",
      "metadata": {
        "id": "lArGSzmGMQkc",
        "colab": {
          "base_uri": "https://localhost:8080/"
        },
        "outputId": "45a3494f-1cac-4b54-8422-b24ca3f306e4"
      },
      "source": [
        "# Random Forest Classifier\n",
        "rfc = RandomForestClassifier(n_estimators = 10, random_state = 0)\n",
        "rfc.fit(features_train, labels_train)\n",
        "print(rfc.score(features_train, labels_train)) \n",
        "print(rfc.score(features_test, labels_test))\n",
        "y_pred = lr.predict(features_test)"
      ],
      "execution_count": 34,
      "outputs": [
        {
          "output_type": "stream",
          "name": "stdout",
          "text": [
            "0.9934715821812596\n",
            "0.9033742331288344\n"
          ]
        }
      ]
    },
    {
      "cell_type": "code",
      "metadata": {
        "colab": {
          "base_uri": "https://localhost:8080/"
        },
        "id": "6RW-Leb883lC",
        "outputId": "4fbf4339-3e8d-4dd8-e7f2-87beb5ba19ff"
      },
      "source": [
        "from sklearn.metrics import f1_score\n",
        "print(f1_score(labels_test, y_pred, average='macro'))\n",
        "print(f1_score(labels_test, y_pred, average='micro'))\n",
        "print(f1_score(labels_test, y_pred, average='weighted'))\n",
        "print(f1_score(labels_test, y_pred, average=None))\n",
        "print(f1_score(labels_test, y_pred, zero_division=1))"
      ],
      "execution_count": 35,
      "outputs": [
        {
          "output_type": "stream",
          "name": "stdout",
          "text": [
            "0.9000445317233776\n",
            "0.9033742331288344\n",
            "0.9027306773950067\n",
            "[0.91828794 0.88180113]\n",
            "0.8818011257035647\n"
          ]
        }
      ]
    },
    {
      "cell_type": "code",
      "metadata": {
        "colab": {
          "base_uri": "https://localhost:8080/"
        },
        "id": "mhFe4Xq585tC",
        "outputId": "d7bae20d-ac16-463f-b13b-cad3dfcf0133"
      },
      "source": [
        "from sklearn.metrics import recall_score\n",
        "print(recall_score(labels_test, y_pred, average='macro'))\n",
        "print(recall_score(labels_test, y_pred, average='micro'))\n",
        "print(recall_score(labels_test, y_pred, average='weighted'))\n",
        "print(recall_score(labels_test, y_pred, average=None))\n",
        "print(recall_score(labels_test, y_pred, average=None, zero_division=1))"
      ],
      "execution_count": 36,
      "outputs": [
        {
          "output_type": "stream",
          "name": "stdout",
          "text": [
            "0.8959239025891585\n",
            "0.9033742331288344\n",
            "0.9033742331288344\n",
            "[0.94652406 0.84532374]\n",
            "[0.94652406 0.84532374]\n"
          ]
        }
      ]
    },
    {
      "cell_type": "code",
      "metadata": {
        "colab": {
          "base_uri": "https://localhost:8080/"
        },
        "id": "rbp5uxUG87Va",
        "outputId": "5c8deab4-c1f6-44fd-bdcc-cbb86ad7d718"
      },
      "source": [
        "from sklearn.metrics import precision_score\n",
        "print(precision_score(labels_test, y_pred, average='macro'))\n",
        "print(precision_score(labels_test, y_pred, average='micro'))\n",
        "print(precision_score(labels_test, y_pred, average='weighted'))\n",
        "print(precision_score(labels_test, y_pred, average=None))\n",
        "print(precision_score(labels_test, y_pred, average=None, zero_division=1))"
      ],
      "execution_count": 37,
      "outputs": [
        {
          "output_type": "stream",
          "name": "stdout",
          "text": [
            "0.9066281424408554\n",
            "0.9033742331288344\n",
            "0.9044283164270946\n",
            "[0.89168766 0.92156863]\n",
            "[0.89168766 0.92156863]\n"
          ]
        }
      ]
    },
    {
      "cell_type": "code",
      "metadata": {
        "colab": {
          "base_uri": "https://localhost:8080/"
        },
        "id": "0WEgz8jKPl1d",
        "outputId": "17674c4f-6ded-4334-b171-506d90862a2d"
      },
      "source": [
        "from sklearn.ensemble import GradientBoostingClassifier\n",
        "clf = GradientBoostingClassifier(n_estimators=100, learning_rate=1.0, max_depth=1, random_state=0).fit(features_train, labels_train)\n",
        "print(clf.score(features_test, labels_test))\n",
        "y_pred = clf.predict(features_test)"
      ],
      "execution_count": 38,
      "outputs": [
        {
          "output_type": "stream",
          "name": "stdout",
          "text": [
            "0.8834355828220859\n"
          ]
        }
      ]
    },
    {
      "cell_type": "code",
      "metadata": {
        "colab": {
          "base_uri": "https://localhost:8080/"
        },
        "id": "VlPCdbarDKaw",
        "outputId": "2d5f324e-4630-4109-8101-6fe5abfee556"
      },
      "source": [
        "from sklearn.metrics import f1_score\n",
        "print(f1_score(labels_test, y_pred, average='macro'))\n",
        "print(f1_score(labels_test, y_pred, average='micro'))\n",
        "print(f1_score(labels_test, y_pred, average='weighted'))\n",
        "print(f1_score(labels_test, y_pred, average=None))\n",
        "print(f1_score(labels_test, y_pred, zero_division=1))"
      ],
      "execution_count": 39,
      "outputs": [
        {
          "output_type": "stream",
          "name": "stdout",
          "text": [
            "0.8807412755716004\n",
            "0.8834355828220859\n",
            "0.883380596959831\n",
            "[0.89866667 0.86281588]\n",
            "0.8628158844765342\n"
          ]
        }
      ]
    },
    {
      "cell_type": "code",
      "metadata": {
        "colab": {
          "base_uri": "https://localhost:8080/"
        },
        "id": "qXtiyorcDM1s",
        "outputId": "f7bca512-7c68-47a3-97ea-43da55c987d7"
      },
      "source": [
        "from sklearn.metrics import recall_score\n",
        "print(recall_score(labels_test, y_pred, average='macro'))\n",
        "print(recall_score(labels_test, y_pred, average='micro'))\n",
        "print(recall_score(labels_test, y_pred, average='weighted'))\n",
        "print(recall_score(labels_test, y_pred, average=None))\n",
        "print(recall_score(labels_test, y_pred, average=None, zero_division=1))"
      ],
      "execution_count": 40,
      "outputs": [
        {
          "output_type": "stream",
          "name": "stdout",
          "text": [
            "0.8803908744662025\n",
            "0.8834355828220859\n",
            "0.8834355828220859\n",
            "[0.90106952 0.85971223]\n",
            "[0.90106952 0.85971223]\n"
          ]
        }
      ]
    },
    {
      "cell_type": "code",
      "metadata": {
        "colab": {
          "base_uri": "https://localhost:8080/"
        },
        "id": "j-VdWICXDNnl",
        "outputId": "51e0d87e-3f9e-4c95-8044-9c887280ed85"
      },
      "source": [
        "from sklearn.metrics import precision_score\n",
        "print(precision_score(labels_test, y_pred, average='macro'))\n",
        "print(precision_score(labels_test, y_pred, average='micro'))\n",
        "print(precision_score(labels_test, y_pred, average='weighted'))\n",
        "print(precision_score(labels_test, y_pred, average=None))\n",
        "print(precision_score(labels_test, y_pred, average=None, zero_division=1))"
      ],
      "execution_count": 41,
      "outputs": [
        {
          "output_type": "stream",
          "name": "stdout",
          "text": [
            "0.881109312365094\n",
            "0.8834355828220859\n",
            "0.8833425320038062\n",
            "[0.8962766  0.86594203]\n",
            "[0.8962766  0.86594203]\n"
          ]
        }
      ]
    },
    {
      "cell_type": "code",
      "metadata": {
        "colab": {
          "base_uri": "https://localhost:8080/"
        },
        "id": "GBJU8zzGPzp3",
        "outputId": "9cd11601-91e1-4c0f-e58d-d39100f79b8d"
      },
      "source": [
        "from sklearn.neighbors import KNeighborsClassifier\n",
        "neigh = KNeighborsClassifier(n_neighbors=3).fit(features_train, labels_train)\n",
        "print(neigh.score(features_test, labels_test))\n",
        "y_pred = neigh.predict(features_test)"
      ],
      "execution_count": 42,
      "outputs": [
        {
          "output_type": "stream",
          "name": "stdout",
          "text": [
            "0.7883435582822086\n"
          ]
        }
      ]
    },
    {
      "cell_type": "code",
      "metadata": {
        "colab": {
          "base_uri": "https://localhost:8080/"
        },
        "id": "oeFZdafyDXdw",
        "outputId": "76211e6a-6cf3-428a-ea6f-b86c0a0856e2"
      },
      "source": [
        "from sklearn.metrics import f1_score\n",
        "print(f1_score(labels_test, y_pred, average='macro'))\n",
        "print(f1_score(labels_test, y_pred, average='micro'))\n",
        "print(f1_score(labels_test, y_pred, average='weighted'))\n",
        "print(f1_score(labels_test, y_pred, average=None))\n",
        "print(f1_score(labels_test, y_pred, zero_division=1))"
      ],
      "execution_count": 43,
      "outputs": [
        {
          "output_type": "stream",
          "name": "stdout",
          "text": [
            "0.7882459261769607\n",
            "0.7883435582822086\n",
            "0.7889154034700893\n",
            "[0.79279279 0.78369906]\n",
            "0.7836990595611285\n"
          ]
        }
      ]
    },
    {
      "cell_type": "code",
      "metadata": {
        "colab": {
          "base_uri": "https://localhost:8080/"
        },
        "id": "qOcbeypgDXy6",
        "outputId": "e8577c67-df65-42bb-8874-9237359b2322"
      },
      "source": [
        "from sklearn.metrics import recall_score\n",
        "print(recall_score(labels_test, y_pred, average='macro'))\n",
        "print(recall_score(labels_test, y_pred, average='micro'))\n",
        "print(recall_score(labels_test, y_pred, average='weighted'))\n",
        "print(recall_score(labels_test, y_pred, average=None))\n",
        "print(recall_score(labels_test, y_pred, average=None, zero_division=1))"
      ],
      "execution_count": 44,
      "outputs": [
        {
          "output_type": "stream",
          "name": "stdout",
          "text": [
            "0.8025814642403724\n",
            "0.7883435582822086\n",
            "0.7883435582822086\n",
            "[0.70588235 0.89928058]\n",
            "[0.70588235 0.89928058]\n"
          ]
        }
      ]
    },
    {
      "cell_type": "code",
      "metadata": {
        "colab": {
          "base_uri": "https://localhost:8080/"
        },
        "id": "-EZw1W8oDYIG",
        "outputId": "9bf2d0fc-9ce6-4f8f-a32c-cc0097891f52"
      },
      "source": [
        "from sklearn.metrics import precision_score\n",
        "print(precision_score(labels_test, y_pred, average='macro'))\n",
        "print(precision_score(labels_test, y_pred, average='micro'))\n",
        "print(precision_score(labels_test, y_pred, average='weighted'))\n",
        "print(precision_score(labels_test, y_pred, average=None))\n",
        "print(precision_score(labels_test, y_pred, average=None, zero_division=1))"
      ],
      "execution_count": 45,
      "outputs": [
        {
          "output_type": "stream",
          "name": "stdout",
          "text": [
            "0.7992770167427701\n",
            "0.7883435582822086\n",
            "0.8147124875106216\n",
            "[0.90410959 0.69444444]\n",
            "[0.90410959 0.69444444]\n"
          ]
        }
      ]
    },
    {
      "cell_type": "code",
      "metadata": {
        "colab": {
          "base_uri": "https://localhost:8080/"
        },
        "id": "7cnSfq4IRccl",
        "outputId": "b73d76a9-8247-4133-de2b-870c6bc5f404"
      },
      "source": [
        "from sklearn.ensemble import AdaBoostClassifier\n",
        "clf = AdaBoostClassifier(n_estimators=100, random_state=0).fit(features_train, labels_train)\n",
        "print(clf.score(features_test, labels_test))\n",
        "y_pred = clf.predict(features_test)"
      ],
      "execution_count": 46,
      "outputs": [
        {
          "output_type": "stream",
          "name": "stdout",
          "text": [
            "0.8895705521472392\n"
          ]
        }
      ]
    },
    {
      "cell_type": "code",
      "metadata": {
        "colab": {
          "base_uri": "https://localhost:8080/"
        },
        "id": "oOVUDk-EDrq-",
        "outputId": "11319e8c-2e2e-481d-87f2-f4c0097edd23"
      },
      "source": [
        "from sklearn.metrics import f1_score\n",
        "print(f1_score(labels_test, y_pred, average='macro'))\n",
        "print(f1_score(labels_test, y_pred, average='micro'))\n",
        "print(f1_score(labels_test, y_pred, average='weighted'))\n",
        "print(f1_score(labels_test, y_pred, average=None))\n",
        "print(f1_score(labels_test, y_pred, zero_division=1))"
      ],
      "execution_count": 47,
      "outputs": [
        {
          "output_type": "stream",
          "name": "stdout",
          "text": [
            "0.8874255402825872\n",
            "0.8895705521472392\n",
            "0.8897135529382161\n",
            "[0.90296496 0.87188612]\n",
            "0.8718861209964412\n"
          ]
        }
      ]
    },
    {
      "cell_type": "code",
      "metadata": {
        "colab": {
          "base_uri": "https://localhost:8080/"
        },
        "id": "UjCTZ0ZIDsD-",
        "outputId": "f3df8532-020d-4d88-f464-b9bc1912d219"
      },
      "source": [
        "from sklearn.metrics import recall_score\n",
        "print(recall_score(labels_test, y_pred, average='macro'))\n",
        "print(recall_score(labels_test, y_pred, average='micro'))\n",
        "print(recall_score(labels_test, y_pred, average='weighted'))\n",
        "print(recall_score(labels_test, y_pred, average=None))\n",
        "print(recall_score(labels_test, y_pred, average=None, zero_division=1))"
      ],
      "execution_count": 48,
      "outputs": [
        {
          "output_type": "stream",
          "name": "stdout",
          "text": [
            "0.8885084445812335\n",
            "0.8895705521472392\n",
            "0.8895705521472392\n",
            "[0.89572193 0.88129496]\n",
            "[0.89572193 0.88129496]\n"
          ]
        }
      ]
    },
    {
      "cell_type": "code",
      "metadata": {
        "colab": {
          "base_uri": "https://localhost:8080/"
        },
        "id": "F0HDQFWnDsbp",
        "outputId": "a5da520a-950a-440c-abaa-b0f292f82ae1"
      },
      "source": [
        "from sklearn.metrics import precision_score\n",
        "print(precision_score(labels_test, y_pred, average='macro'))\n",
        "print(precision_score(labels_test, y_pred, average='micro'))\n",
        "print(precision_score(labels_test, y_pred, average='weighted'))\n",
        "print(precision_score(labels_test, y_pred, average=None))\n",
        "print(precision_score(labels_test, y_pred, average=None, zero_division=1))"
      ],
      "execution_count": 49,
      "outputs": [
        {
          "output_type": "stream",
          "name": "stdout",
          "text": [
            "0.886501071647275\n",
            "0.8895705521472392\n",
            "0.8900090493615199\n",
            "[0.91032609 0.86267606]\n",
            "[0.91032609 0.86267606]\n"
          ]
        }
      ]
    },
    {
      "cell_type": "code",
      "metadata": {
        "colab": {
          "base_uri": "https://localhost:8080/"
        },
        "id": "qmIKvMFlSVVG",
        "outputId": "ad5ec249-94c7-41b9-98e0-6c401dee1034"
      },
      "source": [
        "from sklearn.neural_network import MLPClassifier\n",
        "clf = MLPClassifier(random_state=1, max_iter=300).fit(features_train, labels_train)\n",
        "print(clf.score(features_test, labels_test))\n",
        "y_pred = clf.predict(features_test)"
      ],
      "execution_count": 50,
      "outputs": [
        {
          "output_type": "stream",
          "name": "stdout",
          "text": [
            "0.8803680981595092\n"
          ]
        }
      ]
    },
    {
      "cell_type": "code",
      "metadata": {
        "colab": {
          "base_uri": "https://localhost:8080/"
        },
        "id": "QxBFB2vZEHNL",
        "outputId": "6d0d36a1-7fe6-4532-e08c-44c327f45903"
      },
      "source": [
        "from sklearn.metrics import f1_score\n",
        "print(f1_score(labels_test, y_pred, average='macro'))\n",
        "print(f1_score(labels_test, y_pred, average='micro'))\n",
        "print(f1_score(labels_test, y_pred, average='weighted'))\n",
        "print(f1_score(labels_test, y_pred, average=None))\n",
        "print(f1_score(labels_test, y_pred, zero_division=1))"
      ],
      "execution_count": 51,
      "outputs": [
        {
          "output_type": "stream",
          "name": "stdout",
          "text": [
            "0.8773667711598746\n",
            "0.8803680981595092\n",
            "0.8801915495124719\n",
            "[0.89655172 0.85818182]\n",
            "0.8581818181818183\n"
          ]
        }
      ]
    },
    {
      "cell_type": "code",
      "metadata": {
        "colab": {
          "base_uri": "https://localhost:8080/"
        },
        "id": "6ALmN-zvEHub",
        "outputId": "4c846710-347c-4c7a-ddec-f012238b4225"
      },
      "source": [
        "from sklearn.metrics import recall_score\n",
        "print(recall_score(labels_test, y_pred, average='macro'))\n",
        "print(recall_score(labels_test, y_pred, average='micro'))\n",
        "print(recall_score(labels_test, y_pred, average='weighted'))\n",
        "print(recall_score(labels_test, y_pred, average=None))\n",
        "print(recall_score(labels_test, y_pred, average=None, zero_division=1))"
      ],
      "execution_count": 52,
      "outputs": [
        {
          "output_type": "stream",
          "name": "stdout",
          "text": [
            "0.876332089408687\n",
            "0.8803680981595092\n",
            "0.8803680981595092\n",
            "[0.90374332 0.84892086]\n",
            "[0.90374332 0.84892086]\n"
          ]
        }
      ]
    },
    {
      "cell_type": "code",
      "metadata": {
        "colab": {
          "base_uri": "https://localhost:8080/"
        },
        "id": "ugRgWQWmEIF5",
        "outputId": "b8fee3c7-ee60-4400-88bd-79b1ec948508"
      },
      "source": [
        "from sklearn.metrics import precision_score\n",
        "print(precision_score(labels_test, y_pred, average='macro'))\n",
        "print(precision_score(labels_test, y_pred, average='micro'))\n",
        "print(precision_score(labels_test, y_pred, average='weighted'))\n",
        "print(precision_score(labels_test, y_pred, average=None))\n",
        "print(precision_score(labels_test, y_pred, average=None, zero_division=1))"
      ],
      "execution_count": 53,
      "outputs": [
        {
          "output_type": "stream",
          "name": "stdout",
          "text": [
            "0.8785603715170278\n",
            "0.8803680981595092\n",
            "0.880167239643678\n",
            "[0.88947368 0.86764706]\n",
            "[0.88947368 0.86764706]\n"
          ]
        }
      ]
    },
    {
      "cell_type": "code",
      "metadata": {
        "colab": {
          "base_uri": "https://localhost:8080/"
        },
        "id": "1Wq5_Ls6TDE3",
        "outputId": "1b78ac5b-d4de-4780-97c6-f05820768703"
      },
      "source": [
        "from sklearn.linear_model import SGDClassifier\n",
        "clf = SGDClassifier(max_iter=1000, tol=1e-3).fit(features_train, labels_train)\n",
        "print(clf.score(features_test, labels_test))\n",
        "y_pred = clf.predict(features_test)"
      ],
      "execution_count": 54,
      "outputs": [
        {
          "output_type": "stream",
          "name": "stdout",
          "text": [
            "0.911042944785276\n"
          ]
        }
      ]
    },
    {
      "cell_type": "code",
      "metadata": {
        "id": "39EF5f-gUK00",
        "colab": {
          "base_uri": "https://localhost:8080/"
        },
        "outputId": "e30ad2d7-fd72-425c-c97a-95b111b5b06a"
      },
      "source": [
        "from sklearn.metrics import f1_score\n",
        "print(f1_score(labels_test, y_pred, average='macro'))\n",
        "print(f1_score(labels_test, y_pred, average='micro'))\n",
        "print(f1_score(labels_test, y_pred, average='weighted'))\n",
        "print(f1_score(labels_test, y_pred, average=None))\n",
        "print(f1_score(labels_test, y_pred, zero_division=1))"
      ],
      "execution_count": 55,
      "outputs": [
        {
          "output_type": "stream",
          "name": "stdout",
          "text": [
            "0.9086278716885577\n",
            "0.911042944785276\n",
            "0.9108151077006801\n",
            "[0.92348285 0.89377289]\n",
            "0.8937728937728937\n"
          ]
        }
      ]
    },
    {
      "cell_type": "code",
      "metadata": {
        "colab": {
          "base_uri": "https://localhost:8080/"
        },
        "id": "IJZyHOjGEiH9",
        "outputId": "e99f31bd-94d0-4e70-dc55-96b01d4c51cd"
      },
      "source": [
        "from sklearn.metrics import recall_score\n",
        "print(recall_score(labels_test, y_pred, average='macro'))\n",
        "print(recall_score(labels_test, y_pred, average='micro'))\n",
        "print(recall_score(labels_test, y_pred, average='weighted'))\n",
        "print(recall_score(labels_test, y_pred, average=None))\n",
        "print(recall_score(labels_test, y_pred, average=None, zero_division=1))"
      ],
      "execution_count": 56,
      "outputs": [
        {
          "output_type": "stream",
          "name": "stdout",
          "text": [
            "0.9067633593659832\n",
            "0.911042944785276\n",
            "0.911042944785276\n",
            "[0.93582888 0.87769784]\n",
            "[0.93582888 0.87769784]\n"
          ]
        }
      ]
    },
    {
      "cell_type": "code",
      "metadata": {
        "colab": {
          "base_uri": "https://localhost:8080/"
        },
        "id": "SQBTlcgKEkVH",
        "outputId": "d875e895-2d2c-41e4-e64a-7001f9d6fba9"
      },
      "source": [
        "from sklearn.metrics import precision_score\n",
        "print(precision_score(labels_test, y_pred, average='macro'))\n",
        "print(precision_score(labels_test, y_pred, average='micro'))\n",
        "print(precision_score(labels_test, y_pred, average='weighted'))\n",
        "print(precision_score(labels_test, y_pred, average=None))\n",
        "print(precision_score(labels_test, y_pred, average=None, zero_division=1))"
      ],
      "execution_count": 57,
      "outputs": [
        {
          "output_type": "stream",
          "name": "stdout",
          "text": [
            "0.9109530472636815\n",
            "0.911042944785276\n",
            "0.9110274452125873\n",
            "[0.91145833 0.91044776]\n",
            "[0.91145833 0.91044776]\n"
          ]
        }
      ]
    },
    {
      "cell_type": "code",
      "metadata": {
        "id": "MAO1RQfVEmoY"
      },
      "source": [
        ""
      ],
      "execution_count": null,
      "outputs": []
    }
  ]
}