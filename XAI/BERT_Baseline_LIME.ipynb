{
  "nbformat": 4,
  "nbformat_minor": 0,
  "metadata": {
    "colab": {
      "name": "BERT_Baseline_LIME.ipynb",
      "provenance": [],
      "collapsed_sections": []
    },
    "kernelspec": {
      "name": "python3",
      "display_name": "Python 3"
    },
    "language_info": {
      "name": "python"
    },
    "widgets": {
      "application/vnd.jupyter.widget-state+json": {
        "6c37a47fd0574ee885331ce94eec786f": {
          "model_module": "@jupyter-widgets/controls",
          "model_name": "HBoxModel",
          "model_module_version": "1.5.0",
          "state": {
            "_view_name": "HBoxView",
            "_dom_classes": [],
            "_model_name": "HBoxModel",
            "_view_module": "@jupyter-widgets/controls",
            "_model_module_version": "1.5.0",
            "_view_count": null,
            "_view_module_version": "1.5.0",
            "box_style": "",
            "layout": "IPY_MODEL_05faa81e1a5c4b60945f524aee89c319",
            "_model_module": "@jupyter-widgets/controls",
            "children": [
              "IPY_MODEL_ca0fcc9fd33245f184425eec55ec41cb",
              "IPY_MODEL_1cf2896a6efb4e28b2ad756227ba7aa7",
              "IPY_MODEL_eedfc123473e4c3d935d0c09c9e5f1ca"
            ]
          }
        },
        "05faa81e1a5c4b60945f524aee89c319": {
          "model_module": "@jupyter-widgets/base",
          "model_name": "LayoutModel",
          "model_module_version": "1.2.0",
          "state": {
            "_view_name": "LayoutView",
            "grid_template_rows": null,
            "right": null,
            "justify_content": null,
            "_view_module": "@jupyter-widgets/base",
            "overflow": null,
            "_model_module_version": "1.2.0",
            "_view_count": null,
            "flex_flow": null,
            "width": null,
            "min_width": null,
            "border": null,
            "align_items": null,
            "bottom": null,
            "_model_module": "@jupyter-widgets/base",
            "top": null,
            "grid_column": null,
            "overflow_y": null,
            "overflow_x": null,
            "grid_auto_flow": null,
            "grid_area": null,
            "grid_template_columns": null,
            "flex": null,
            "_model_name": "LayoutModel",
            "justify_items": null,
            "grid_row": null,
            "max_height": null,
            "align_content": null,
            "visibility": null,
            "align_self": null,
            "height": null,
            "min_height": null,
            "padding": null,
            "grid_auto_rows": null,
            "grid_gap": null,
            "max_width": null,
            "order": null,
            "_view_module_version": "1.2.0",
            "grid_template_areas": null,
            "object_position": null,
            "object_fit": null,
            "grid_auto_columns": null,
            "margin": null,
            "display": null,
            "left": null
          }
        },
        "ca0fcc9fd33245f184425eec55ec41cb": {
          "model_module": "@jupyter-widgets/controls",
          "model_name": "HTMLModel",
          "model_module_version": "1.5.0",
          "state": {
            "_view_name": "HTMLView",
            "style": "IPY_MODEL_f38d629631814c259cfc3cc80629e315",
            "_dom_classes": [],
            "description": "",
            "_model_name": "HTMLModel",
            "placeholder": "​",
            "_view_module": "@jupyter-widgets/controls",
            "_model_module_version": "1.5.0",
            "value": "Downloading: 100%",
            "_view_count": null,
            "_view_module_version": "1.5.0",
            "description_tooltip": null,
            "_model_module": "@jupyter-widgets/controls",
            "layout": "IPY_MODEL_456aee82e5c04e848753e225368364c4"
          }
        },
        "1cf2896a6efb4e28b2ad756227ba7aa7": {
          "model_module": "@jupyter-widgets/controls",
          "model_name": "FloatProgressModel",
          "model_module_version": "1.5.0",
          "state": {
            "_view_name": "ProgressView",
            "style": "IPY_MODEL_39b527fc540849078d761b37da6b68a5",
            "_dom_classes": [],
            "description": "",
            "_model_name": "FloatProgressModel",
            "bar_style": "success",
            "max": 433,
            "_view_module": "@jupyter-widgets/controls",
            "_model_module_version": "1.5.0",
            "value": 433,
            "_view_count": null,
            "_view_module_version": "1.5.0",
            "orientation": "horizontal",
            "min": 0,
            "description_tooltip": null,
            "_model_module": "@jupyter-widgets/controls",
            "layout": "IPY_MODEL_3fb151e601eb4fca8b5852b4a99c2499"
          }
        },
        "eedfc123473e4c3d935d0c09c9e5f1ca": {
          "model_module": "@jupyter-widgets/controls",
          "model_name": "HTMLModel",
          "model_module_version": "1.5.0",
          "state": {
            "_view_name": "HTMLView",
            "style": "IPY_MODEL_e1665f0222c1445aa41e677c79b0760f",
            "_dom_classes": [],
            "description": "",
            "_model_name": "HTMLModel",
            "placeholder": "​",
            "_view_module": "@jupyter-widgets/controls",
            "_model_module_version": "1.5.0",
            "value": " 433/433 [00:00&lt;00:00, 3.43kB/s]",
            "_view_count": null,
            "_view_module_version": "1.5.0",
            "description_tooltip": null,
            "_model_module": "@jupyter-widgets/controls",
            "layout": "IPY_MODEL_43e8ee0911ec4f849d95030156b65992"
          }
        },
        "f38d629631814c259cfc3cc80629e315": {
          "model_module": "@jupyter-widgets/controls",
          "model_name": "DescriptionStyleModel",
          "model_module_version": "1.5.0",
          "state": {
            "_view_name": "StyleView",
            "_model_name": "DescriptionStyleModel",
            "description_width": "",
            "_view_module": "@jupyter-widgets/base",
            "_model_module_version": "1.5.0",
            "_view_count": null,
            "_view_module_version": "1.2.0",
            "_model_module": "@jupyter-widgets/controls"
          }
        },
        "456aee82e5c04e848753e225368364c4": {
          "model_module": "@jupyter-widgets/base",
          "model_name": "LayoutModel",
          "model_module_version": "1.2.0",
          "state": {
            "_view_name": "LayoutView",
            "grid_template_rows": null,
            "right": null,
            "justify_content": null,
            "_view_module": "@jupyter-widgets/base",
            "overflow": null,
            "_model_module_version": "1.2.0",
            "_view_count": null,
            "flex_flow": null,
            "width": null,
            "min_width": null,
            "border": null,
            "align_items": null,
            "bottom": null,
            "_model_module": "@jupyter-widgets/base",
            "top": null,
            "grid_column": null,
            "overflow_y": null,
            "overflow_x": null,
            "grid_auto_flow": null,
            "grid_area": null,
            "grid_template_columns": null,
            "flex": null,
            "_model_name": "LayoutModel",
            "justify_items": null,
            "grid_row": null,
            "max_height": null,
            "align_content": null,
            "visibility": null,
            "align_self": null,
            "height": null,
            "min_height": null,
            "padding": null,
            "grid_auto_rows": null,
            "grid_gap": null,
            "max_width": null,
            "order": null,
            "_view_module_version": "1.2.0",
            "grid_template_areas": null,
            "object_position": null,
            "object_fit": null,
            "grid_auto_columns": null,
            "margin": null,
            "display": null,
            "left": null
          }
        },
        "39b527fc540849078d761b37da6b68a5": {
          "model_module": "@jupyter-widgets/controls",
          "model_name": "ProgressStyleModel",
          "model_module_version": "1.5.0",
          "state": {
            "_view_name": "StyleView",
            "_model_name": "ProgressStyleModel",
            "description_width": "",
            "_view_module": "@jupyter-widgets/base",
            "_model_module_version": "1.5.0",
            "_view_count": null,
            "_view_module_version": "1.2.0",
            "bar_color": null,
            "_model_module": "@jupyter-widgets/controls"
          }
        },
        "3fb151e601eb4fca8b5852b4a99c2499": {
          "model_module": "@jupyter-widgets/base",
          "model_name": "LayoutModel",
          "model_module_version": "1.2.0",
          "state": {
            "_view_name": "LayoutView",
            "grid_template_rows": null,
            "right": null,
            "justify_content": null,
            "_view_module": "@jupyter-widgets/base",
            "overflow": null,
            "_model_module_version": "1.2.0",
            "_view_count": null,
            "flex_flow": null,
            "width": null,
            "min_width": null,
            "border": null,
            "align_items": null,
            "bottom": null,
            "_model_module": "@jupyter-widgets/base",
            "top": null,
            "grid_column": null,
            "overflow_y": null,
            "overflow_x": null,
            "grid_auto_flow": null,
            "grid_area": null,
            "grid_template_columns": null,
            "flex": null,
            "_model_name": "LayoutModel",
            "justify_items": null,
            "grid_row": null,
            "max_height": null,
            "align_content": null,
            "visibility": null,
            "align_self": null,
            "height": null,
            "min_height": null,
            "padding": null,
            "grid_auto_rows": null,
            "grid_gap": null,
            "max_width": null,
            "order": null,
            "_view_module_version": "1.2.0",
            "grid_template_areas": null,
            "object_position": null,
            "object_fit": null,
            "grid_auto_columns": null,
            "margin": null,
            "display": null,
            "left": null
          }
        },
        "e1665f0222c1445aa41e677c79b0760f": {
          "model_module": "@jupyter-widgets/controls",
          "model_name": "DescriptionStyleModel",
          "model_module_version": "1.5.0",
          "state": {
            "_view_name": "StyleView",
            "_model_name": "DescriptionStyleModel",
            "description_width": "",
            "_view_module": "@jupyter-widgets/base",
            "_model_module_version": "1.5.0",
            "_view_count": null,
            "_view_module_version": "1.2.0",
            "_model_module": "@jupyter-widgets/controls"
          }
        },
        "43e8ee0911ec4f849d95030156b65992": {
          "model_module": "@jupyter-widgets/base",
          "model_name": "LayoutModel",
          "model_module_version": "1.2.0",
          "state": {
            "_view_name": "LayoutView",
            "grid_template_rows": null,
            "right": null,
            "justify_content": null,
            "_view_module": "@jupyter-widgets/base",
            "overflow": null,
            "_model_module_version": "1.2.0",
            "_view_count": null,
            "flex_flow": null,
            "width": null,
            "min_width": null,
            "border": null,
            "align_items": null,
            "bottom": null,
            "_model_module": "@jupyter-widgets/base",
            "top": null,
            "grid_column": null,
            "overflow_y": null,
            "overflow_x": null,
            "grid_auto_flow": null,
            "grid_area": null,
            "grid_template_columns": null,
            "flex": null,
            "_model_name": "LayoutModel",
            "justify_items": null,
            "grid_row": null,
            "max_height": null,
            "align_content": null,
            "visibility": null,
            "align_self": null,
            "height": null,
            "min_height": null,
            "padding": null,
            "grid_auto_rows": null,
            "grid_gap": null,
            "max_width": null,
            "order": null,
            "_view_module_version": "1.2.0",
            "grid_template_areas": null,
            "object_position": null,
            "object_fit": null,
            "grid_auto_columns": null,
            "margin": null,
            "display": null,
            "left": null
          }
        },
        "505662432c0c49748d197210e74b8056": {
          "model_module": "@jupyter-widgets/controls",
          "model_name": "HBoxModel",
          "model_module_version": "1.5.0",
          "state": {
            "_view_name": "HBoxView",
            "_dom_classes": [],
            "_model_name": "HBoxModel",
            "_view_module": "@jupyter-widgets/controls",
            "_model_module_version": "1.5.0",
            "_view_count": null,
            "_view_module_version": "1.5.0",
            "box_style": "",
            "layout": "IPY_MODEL_e25a266822934b269971838dd368ec85",
            "_model_module": "@jupyter-widgets/controls",
            "children": [
              "IPY_MODEL_2c22227d46fe441584584a869db3bdcc",
              "IPY_MODEL_11d79425f838482cb054a957013621a6",
              "IPY_MODEL_10c16d5b85eb4b108bbf7593cf6fa332"
            ]
          }
        },
        "e25a266822934b269971838dd368ec85": {
          "model_module": "@jupyter-widgets/base",
          "model_name": "LayoutModel",
          "model_module_version": "1.2.0",
          "state": {
            "_view_name": "LayoutView",
            "grid_template_rows": null,
            "right": null,
            "justify_content": null,
            "_view_module": "@jupyter-widgets/base",
            "overflow": null,
            "_model_module_version": "1.2.0",
            "_view_count": null,
            "flex_flow": null,
            "width": null,
            "min_width": null,
            "border": null,
            "align_items": null,
            "bottom": null,
            "_model_module": "@jupyter-widgets/base",
            "top": null,
            "grid_column": null,
            "overflow_y": null,
            "overflow_x": null,
            "grid_auto_flow": null,
            "grid_area": null,
            "grid_template_columns": null,
            "flex": null,
            "_model_name": "LayoutModel",
            "justify_items": null,
            "grid_row": null,
            "max_height": null,
            "align_content": null,
            "visibility": null,
            "align_self": null,
            "height": null,
            "min_height": null,
            "padding": null,
            "grid_auto_rows": null,
            "grid_gap": null,
            "max_width": null,
            "order": null,
            "_view_module_version": "1.2.0",
            "grid_template_areas": null,
            "object_position": null,
            "object_fit": null,
            "grid_auto_columns": null,
            "margin": null,
            "display": null,
            "left": null
          }
        },
        "2c22227d46fe441584584a869db3bdcc": {
          "model_module": "@jupyter-widgets/controls",
          "model_name": "HTMLModel",
          "model_module_version": "1.5.0",
          "state": {
            "_view_name": "HTMLView",
            "style": "IPY_MODEL_79f1c3b4dc5942bfa6b9aae77040e670",
            "_dom_classes": [],
            "description": "",
            "_model_name": "HTMLModel",
            "placeholder": "​",
            "_view_module": "@jupyter-widgets/controls",
            "_model_module_version": "1.5.0",
            "value": "Downloading: 100%",
            "_view_count": null,
            "_view_module_version": "1.5.0",
            "description_tooltip": null,
            "_model_module": "@jupyter-widgets/controls",
            "layout": "IPY_MODEL_76a639ae41564cd889bfda38f9eb98c5"
          }
        },
        "11d79425f838482cb054a957013621a6": {
          "model_module": "@jupyter-widgets/controls",
          "model_name": "FloatProgressModel",
          "model_module_version": "1.5.0",
          "state": {
            "_view_name": "ProgressView",
            "style": "IPY_MODEL_22f1ae82a7934babbb78ee235865f3e2",
            "_dom_classes": [],
            "description": "",
            "_model_name": "FloatProgressModel",
            "bar_style": "success",
            "max": 440473133,
            "_view_module": "@jupyter-widgets/controls",
            "_model_module_version": "1.5.0",
            "value": 440473133,
            "_view_count": null,
            "_view_module_version": "1.5.0",
            "orientation": "horizontal",
            "min": 0,
            "description_tooltip": null,
            "_model_module": "@jupyter-widgets/controls",
            "layout": "IPY_MODEL_2154bc4eb95043a390ed2893af581a69"
          }
        },
        "10c16d5b85eb4b108bbf7593cf6fa332": {
          "model_module": "@jupyter-widgets/controls",
          "model_name": "HTMLModel",
          "model_module_version": "1.5.0",
          "state": {
            "_view_name": "HTMLView",
            "style": "IPY_MODEL_5b4e92dc9fc44fc1bb61f8cf2aca7a5c",
            "_dom_classes": [],
            "description": "",
            "_model_name": "HTMLModel",
            "placeholder": "​",
            "_view_module": "@jupyter-widgets/controls",
            "_model_module_version": "1.5.0",
            "value": " 440M/440M [00:19&lt;00:00, 17.9MB/s]",
            "_view_count": null,
            "_view_module_version": "1.5.0",
            "description_tooltip": null,
            "_model_module": "@jupyter-widgets/controls",
            "layout": "IPY_MODEL_35ad507a150f4f2394633b61ad548289"
          }
        },
        "79f1c3b4dc5942bfa6b9aae77040e670": {
          "model_module": "@jupyter-widgets/controls",
          "model_name": "DescriptionStyleModel",
          "model_module_version": "1.5.0",
          "state": {
            "_view_name": "StyleView",
            "_model_name": "DescriptionStyleModel",
            "description_width": "",
            "_view_module": "@jupyter-widgets/base",
            "_model_module_version": "1.5.0",
            "_view_count": null,
            "_view_module_version": "1.2.0",
            "_model_module": "@jupyter-widgets/controls"
          }
        },
        "76a639ae41564cd889bfda38f9eb98c5": {
          "model_module": "@jupyter-widgets/base",
          "model_name": "LayoutModel",
          "model_module_version": "1.2.0",
          "state": {
            "_view_name": "LayoutView",
            "grid_template_rows": null,
            "right": null,
            "justify_content": null,
            "_view_module": "@jupyter-widgets/base",
            "overflow": null,
            "_model_module_version": "1.2.0",
            "_view_count": null,
            "flex_flow": null,
            "width": null,
            "min_width": null,
            "border": null,
            "align_items": null,
            "bottom": null,
            "_model_module": "@jupyter-widgets/base",
            "top": null,
            "grid_column": null,
            "overflow_y": null,
            "overflow_x": null,
            "grid_auto_flow": null,
            "grid_area": null,
            "grid_template_columns": null,
            "flex": null,
            "_model_name": "LayoutModel",
            "justify_items": null,
            "grid_row": null,
            "max_height": null,
            "align_content": null,
            "visibility": null,
            "align_self": null,
            "height": null,
            "min_height": null,
            "padding": null,
            "grid_auto_rows": null,
            "grid_gap": null,
            "max_width": null,
            "order": null,
            "_view_module_version": "1.2.0",
            "grid_template_areas": null,
            "object_position": null,
            "object_fit": null,
            "grid_auto_columns": null,
            "margin": null,
            "display": null,
            "left": null
          }
        },
        "22f1ae82a7934babbb78ee235865f3e2": {
          "model_module": "@jupyter-widgets/controls",
          "model_name": "ProgressStyleModel",
          "model_module_version": "1.5.0",
          "state": {
            "_view_name": "StyleView",
            "_model_name": "ProgressStyleModel",
            "description_width": "",
            "_view_module": "@jupyter-widgets/base",
            "_model_module_version": "1.5.0",
            "_view_count": null,
            "_view_module_version": "1.2.0",
            "bar_color": null,
            "_model_module": "@jupyter-widgets/controls"
          }
        },
        "2154bc4eb95043a390ed2893af581a69": {
          "model_module": "@jupyter-widgets/base",
          "model_name": "LayoutModel",
          "model_module_version": "1.2.0",
          "state": {
            "_view_name": "LayoutView",
            "grid_template_rows": null,
            "right": null,
            "justify_content": null,
            "_view_module": "@jupyter-widgets/base",
            "overflow": null,
            "_model_module_version": "1.2.0",
            "_view_count": null,
            "flex_flow": null,
            "width": null,
            "min_width": null,
            "border": null,
            "align_items": null,
            "bottom": null,
            "_model_module": "@jupyter-widgets/base",
            "top": null,
            "grid_column": null,
            "overflow_y": null,
            "overflow_x": null,
            "grid_auto_flow": null,
            "grid_area": null,
            "grid_template_columns": null,
            "flex": null,
            "_model_name": "LayoutModel",
            "justify_items": null,
            "grid_row": null,
            "max_height": null,
            "align_content": null,
            "visibility": null,
            "align_self": null,
            "height": null,
            "min_height": null,
            "padding": null,
            "grid_auto_rows": null,
            "grid_gap": null,
            "max_width": null,
            "order": null,
            "_view_module_version": "1.2.0",
            "grid_template_areas": null,
            "object_position": null,
            "object_fit": null,
            "grid_auto_columns": null,
            "margin": null,
            "display": null,
            "left": null
          }
        },
        "5b4e92dc9fc44fc1bb61f8cf2aca7a5c": {
          "model_module": "@jupyter-widgets/controls",
          "model_name": "DescriptionStyleModel",
          "model_module_version": "1.5.0",
          "state": {
            "_view_name": "StyleView",
            "_model_name": "DescriptionStyleModel",
            "description_width": "",
            "_view_module": "@jupyter-widgets/base",
            "_model_module_version": "1.5.0",
            "_view_count": null,
            "_view_module_version": "1.2.0",
            "_model_module": "@jupyter-widgets/controls"
          }
        },
        "35ad507a150f4f2394633b61ad548289": {
          "model_module": "@jupyter-widgets/base",
          "model_name": "LayoutModel",
          "model_module_version": "1.2.0",
          "state": {
            "_view_name": "LayoutView",
            "grid_template_rows": null,
            "right": null,
            "justify_content": null,
            "_view_module": "@jupyter-widgets/base",
            "overflow": null,
            "_model_module_version": "1.2.0",
            "_view_count": null,
            "flex_flow": null,
            "width": null,
            "min_width": null,
            "border": null,
            "align_items": null,
            "bottom": null,
            "_model_module": "@jupyter-widgets/base",
            "top": null,
            "grid_column": null,
            "overflow_y": null,
            "overflow_x": null,
            "grid_auto_flow": null,
            "grid_area": null,
            "grid_template_columns": null,
            "flex": null,
            "_model_name": "LayoutModel",
            "justify_items": null,
            "grid_row": null,
            "max_height": null,
            "align_content": null,
            "visibility": null,
            "align_self": null,
            "height": null,
            "min_height": null,
            "padding": null,
            "grid_auto_rows": null,
            "grid_gap": null,
            "max_width": null,
            "order": null,
            "_view_module_version": "1.2.0",
            "grid_template_areas": null,
            "object_position": null,
            "object_fit": null,
            "grid_auto_columns": null,
            "margin": null,
            "display": null,
            "left": null
          }
        },
        "c54193170ecf48aa887941bf810cbba6": {
          "model_module": "@jupyter-widgets/controls",
          "model_name": "HBoxModel",
          "model_module_version": "1.5.0",
          "state": {
            "_view_name": "HBoxView",
            "_dom_classes": [],
            "_model_name": "HBoxModel",
            "_view_module": "@jupyter-widgets/controls",
            "_model_module_version": "1.5.0",
            "_view_count": null,
            "_view_module_version": "1.5.0",
            "box_style": "",
            "layout": "IPY_MODEL_fc192e02e9c247f9a4196f21a0d45458",
            "_model_module": "@jupyter-widgets/controls",
            "children": [
              "IPY_MODEL_83012c83be6a424fac9cfe1db3c28359",
              "IPY_MODEL_fba8d1be2be0404d9b9f84eb0c7da816",
              "IPY_MODEL_d35a26401ce84c74a8c729638d9b1fdd"
            ]
          }
        },
        "fc192e02e9c247f9a4196f21a0d45458": {
          "model_module": "@jupyter-widgets/base",
          "model_name": "LayoutModel",
          "model_module_version": "1.2.0",
          "state": {
            "_view_name": "LayoutView",
            "grid_template_rows": null,
            "right": null,
            "justify_content": null,
            "_view_module": "@jupyter-widgets/base",
            "overflow": null,
            "_model_module_version": "1.2.0",
            "_view_count": null,
            "flex_flow": null,
            "width": null,
            "min_width": null,
            "border": null,
            "align_items": null,
            "bottom": null,
            "_model_module": "@jupyter-widgets/base",
            "top": null,
            "grid_column": null,
            "overflow_y": null,
            "overflow_x": null,
            "grid_auto_flow": null,
            "grid_area": null,
            "grid_template_columns": null,
            "flex": null,
            "_model_name": "LayoutModel",
            "justify_items": null,
            "grid_row": null,
            "max_height": null,
            "align_content": null,
            "visibility": null,
            "align_self": null,
            "height": null,
            "min_height": null,
            "padding": null,
            "grid_auto_rows": null,
            "grid_gap": null,
            "max_width": null,
            "order": null,
            "_view_module_version": "1.2.0",
            "grid_template_areas": null,
            "object_position": null,
            "object_fit": null,
            "grid_auto_columns": null,
            "margin": null,
            "display": null,
            "left": null
          }
        },
        "83012c83be6a424fac9cfe1db3c28359": {
          "model_module": "@jupyter-widgets/controls",
          "model_name": "HTMLModel",
          "model_module_version": "1.5.0",
          "state": {
            "_view_name": "HTMLView",
            "style": "IPY_MODEL_ad78d5c8cf9b4bb2a8be4aca06c97a3b",
            "_dom_classes": [],
            "description": "",
            "_model_name": "HTMLModel",
            "placeholder": "​",
            "_view_module": "@jupyter-widgets/controls",
            "_model_module_version": "1.5.0",
            "value": "Downloading: 100%",
            "_view_count": null,
            "_view_module_version": "1.5.0",
            "description_tooltip": null,
            "_model_module": "@jupyter-widgets/controls",
            "layout": "IPY_MODEL_1c112486e7494cfa8f271a72be7a38a4"
          }
        },
        "fba8d1be2be0404d9b9f84eb0c7da816": {
          "model_module": "@jupyter-widgets/controls",
          "model_name": "FloatProgressModel",
          "model_module_version": "1.5.0",
          "state": {
            "_view_name": "ProgressView",
            "style": "IPY_MODEL_9142a04e96bf4f72979bbd74bd0f1c8d",
            "_dom_classes": [],
            "description": "",
            "_model_name": "FloatProgressModel",
            "bar_style": "success",
            "max": 231508,
            "_view_module": "@jupyter-widgets/controls",
            "_model_module_version": "1.5.0",
            "value": 231508,
            "_view_count": null,
            "_view_module_version": "1.5.0",
            "orientation": "horizontal",
            "min": 0,
            "description_tooltip": null,
            "_model_module": "@jupyter-widgets/controls",
            "layout": "IPY_MODEL_c9d2e30038f34d9a863a68429db9dfd1"
          }
        },
        "d35a26401ce84c74a8c729638d9b1fdd": {
          "model_module": "@jupyter-widgets/controls",
          "model_name": "HTMLModel",
          "model_module_version": "1.5.0",
          "state": {
            "_view_name": "HTMLView",
            "style": "IPY_MODEL_b8cdb1b1b5e54e70b30b29d8e20e39a0",
            "_dom_classes": [],
            "description": "",
            "_model_name": "HTMLModel",
            "placeholder": "​",
            "_view_module": "@jupyter-widgets/controls",
            "_model_module_version": "1.5.0",
            "value": " 232k/232k [00:00&lt;00:00, 1.10MB/s]",
            "_view_count": null,
            "_view_module_version": "1.5.0",
            "description_tooltip": null,
            "_model_module": "@jupyter-widgets/controls",
            "layout": "IPY_MODEL_1e493bdd34a249c589c9bc643f7de8e4"
          }
        },
        "ad78d5c8cf9b4bb2a8be4aca06c97a3b": {
          "model_module": "@jupyter-widgets/controls",
          "model_name": "DescriptionStyleModel",
          "model_module_version": "1.5.0",
          "state": {
            "_view_name": "StyleView",
            "_model_name": "DescriptionStyleModel",
            "description_width": "",
            "_view_module": "@jupyter-widgets/base",
            "_model_module_version": "1.5.0",
            "_view_count": null,
            "_view_module_version": "1.2.0",
            "_model_module": "@jupyter-widgets/controls"
          }
        },
        "1c112486e7494cfa8f271a72be7a38a4": {
          "model_module": "@jupyter-widgets/base",
          "model_name": "LayoutModel",
          "model_module_version": "1.2.0",
          "state": {
            "_view_name": "LayoutView",
            "grid_template_rows": null,
            "right": null,
            "justify_content": null,
            "_view_module": "@jupyter-widgets/base",
            "overflow": null,
            "_model_module_version": "1.2.0",
            "_view_count": null,
            "flex_flow": null,
            "width": null,
            "min_width": null,
            "border": null,
            "align_items": null,
            "bottom": null,
            "_model_module": "@jupyter-widgets/base",
            "top": null,
            "grid_column": null,
            "overflow_y": null,
            "overflow_x": null,
            "grid_auto_flow": null,
            "grid_area": null,
            "grid_template_columns": null,
            "flex": null,
            "_model_name": "LayoutModel",
            "justify_items": null,
            "grid_row": null,
            "max_height": null,
            "align_content": null,
            "visibility": null,
            "align_self": null,
            "height": null,
            "min_height": null,
            "padding": null,
            "grid_auto_rows": null,
            "grid_gap": null,
            "max_width": null,
            "order": null,
            "_view_module_version": "1.2.0",
            "grid_template_areas": null,
            "object_position": null,
            "object_fit": null,
            "grid_auto_columns": null,
            "margin": null,
            "display": null,
            "left": null
          }
        },
        "9142a04e96bf4f72979bbd74bd0f1c8d": {
          "model_module": "@jupyter-widgets/controls",
          "model_name": "ProgressStyleModel",
          "model_module_version": "1.5.0",
          "state": {
            "_view_name": "StyleView",
            "_model_name": "ProgressStyleModel",
            "description_width": "",
            "_view_module": "@jupyter-widgets/base",
            "_model_module_version": "1.5.0",
            "_view_count": null,
            "_view_module_version": "1.2.0",
            "bar_color": null,
            "_model_module": "@jupyter-widgets/controls"
          }
        },
        "c9d2e30038f34d9a863a68429db9dfd1": {
          "model_module": "@jupyter-widgets/base",
          "model_name": "LayoutModel",
          "model_module_version": "1.2.0",
          "state": {
            "_view_name": "LayoutView",
            "grid_template_rows": null,
            "right": null,
            "justify_content": null,
            "_view_module": "@jupyter-widgets/base",
            "overflow": null,
            "_model_module_version": "1.2.0",
            "_view_count": null,
            "flex_flow": null,
            "width": null,
            "min_width": null,
            "border": null,
            "align_items": null,
            "bottom": null,
            "_model_module": "@jupyter-widgets/base",
            "top": null,
            "grid_column": null,
            "overflow_y": null,
            "overflow_x": null,
            "grid_auto_flow": null,
            "grid_area": null,
            "grid_template_columns": null,
            "flex": null,
            "_model_name": "LayoutModel",
            "justify_items": null,
            "grid_row": null,
            "max_height": null,
            "align_content": null,
            "visibility": null,
            "align_self": null,
            "height": null,
            "min_height": null,
            "padding": null,
            "grid_auto_rows": null,
            "grid_gap": null,
            "max_width": null,
            "order": null,
            "_view_module_version": "1.2.0",
            "grid_template_areas": null,
            "object_position": null,
            "object_fit": null,
            "grid_auto_columns": null,
            "margin": null,
            "display": null,
            "left": null
          }
        },
        "b8cdb1b1b5e54e70b30b29d8e20e39a0": {
          "model_module": "@jupyter-widgets/controls",
          "model_name": "DescriptionStyleModel",
          "model_module_version": "1.5.0",
          "state": {
            "_view_name": "StyleView",
            "_model_name": "DescriptionStyleModel",
            "description_width": "",
            "_view_module": "@jupyter-widgets/base",
            "_model_module_version": "1.5.0",
            "_view_count": null,
            "_view_module_version": "1.2.0",
            "_model_module": "@jupyter-widgets/controls"
          }
        },
        "1e493bdd34a249c589c9bc643f7de8e4": {
          "model_module": "@jupyter-widgets/base",
          "model_name": "LayoutModel",
          "model_module_version": "1.2.0",
          "state": {
            "_view_name": "LayoutView",
            "grid_template_rows": null,
            "right": null,
            "justify_content": null,
            "_view_module": "@jupyter-widgets/base",
            "overflow": null,
            "_model_module_version": "1.2.0",
            "_view_count": null,
            "flex_flow": null,
            "width": null,
            "min_width": null,
            "border": null,
            "align_items": null,
            "bottom": null,
            "_model_module": "@jupyter-widgets/base",
            "top": null,
            "grid_column": null,
            "overflow_y": null,
            "overflow_x": null,
            "grid_auto_flow": null,
            "grid_area": null,
            "grid_template_columns": null,
            "flex": null,
            "_model_name": "LayoutModel",
            "justify_items": null,
            "grid_row": null,
            "max_height": null,
            "align_content": null,
            "visibility": null,
            "align_self": null,
            "height": null,
            "min_height": null,
            "padding": null,
            "grid_auto_rows": null,
            "grid_gap": null,
            "max_width": null,
            "order": null,
            "_view_module_version": "1.2.0",
            "grid_template_areas": null,
            "object_position": null,
            "object_fit": null,
            "grid_auto_columns": null,
            "margin": null,
            "display": null,
            "left": null
          }
        }
      }
    }
  },
  "cells": [
    {
      "cell_type": "code",
      "execution_count": null,
      "metadata": {
        "colab": {
          "base_uri": "https://localhost:8080/"
        },
        "id": "3gip2rbNaZHt",
        "outputId": "708522a9-493c-4628-b160-f8d8b046a8ef"
      },
      "outputs": [
        {
          "output_type": "stream",
          "name": "stdout",
          "text": [
            "Cloning into 'Sad_Depression_Classification'...\n",
            "remote: Enumerating objects: 38, done.\u001b[K\n",
            "remote: Counting objects: 100% (38/38), done.\u001b[K\n",
            "remote: Compressing objects: 100% (25/25), done.\u001b[K\n",
            "remote: Total 38 (delta 19), reused 25 (delta 11), pack-reused 0\u001b[K\n",
            "Unpacking objects: 100% (38/38), done.\n"
          ]
        }
      ],
      "source": [
        "!git clone https://github.com/tiasa2/Sad_Depression_Classification.git"
      ]
    },
    {
      "cell_type": "code",
      "source": [
        "!pip install transformers==3"
      ],
      "metadata": {
        "colab": {
          "base_uri": "https://localhost:8080/"
        },
        "id": "mTQoWdmYafCk",
        "outputId": "43168e92-664a-44b3-f2d4-b23517350c93"
      },
      "execution_count": null,
      "outputs": [
        {
          "output_type": "stream",
          "name": "stdout",
          "text": [
            "Collecting transformers==3\n",
            "  Downloading transformers-3.0.0-py3-none-any.whl (754 kB)\n",
            "\u001b[?25l\r\u001b[K     |▍                               | 10 kB 28.7 MB/s eta 0:00:01\r\u001b[K     |▉                               | 20 kB 12.9 MB/s eta 0:00:01\r\u001b[K     |█▎                              | 30 kB 9.8 MB/s eta 0:00:01\r\u001b[K     |█▊                              | 40 kB 8.7 MB/s eta 0:00:01\r\u001b[K     |██▏                             | 51 kB 4.4 MB/s eta 0:00:01\r\u001b[K     |██▋                             | 61 kB 5.1 MB/s eta 0:00:01\r\u001b[K     |███                             | 71 kB 5.5 MB/s eta 0:00:01\r\u001b[K     |███▌                            | 81 kB 5.6 MB/s eta 0:00:01\r\u001b[K     |████                            | 92 kB 6.2 MB/s eta 0:00:01\r\u001b[K     |████▍                           | 102 kB 5.1 MB/s eta 0:00:01\r\u001b[K     |████▊                           | 112 kB 5.1 MB/s eta 0:00:01\r\u001b[K     |█████▏                          | 122 kB 5.1 MB/s eta 0:00:01\r\u001b[K     |█████▋                          | 133 kB 5.1 MB/s eta 0:00:01\r\u001b[K     |██████                          | 143 kB 5.1 MB/s eta 0:00:01\r\u001b[K     |██████▌                         | 153 kB 5.1 MB/s eta 0:00:01\r\u001b[K     |███████                         | 163 kB 5.1 MB/s eta 0:00:01\r\u001b[K     |███████▍                        | 174 kB 5.1 MB/s eta 0:00:01\r\u001b[K     |███████▉                        | 184 kB 5.1 MB/s eta 0:00:01\r\u001b[K     |████████▎                       | 194 kB 5.1 MB/s eta 0:00:01\r\u001b[K     |████████▊                       | 204 kB 5.1 MB/s eta 0:00:01\r\u001b[K     |█████████▏                      | 215 kB 5.1 MB/s eta 0:00:01\r\u001b[K     |█████████▌                      | 225 kB 5.1 MB/s eta 0:00:01\r\u001b[K     |██████████                      | 235 kB 5.1 MB/s eta 0:00:01\r\u001b[K     |██████████▍                     | 245 kB 5.1 MB/s eta 0:00:01\r\u001b[K     |██████████▉                     | 256 kB 5.1 MB/s eta 0:00:01\r\u001b[K     |███████████▎                    | 266 kB 5.1 MB/s eta 0:00:01\r\u001b[K     |███████████▊                    | 276 kB 5.1 MB/s eta 0:00:01\r\u001b[K     |████████████▏                   | 286 kB 5.1 MB/s eta 0:00:01\r\u001b[K     |████████████▋                   | 296 kB 5.1 MB/s eta 0:00:01\r\u001b[K     |█████████████                   | 307 kB 5.1 MB/s eta 0:00:01\r\u001b[K     |█████████████▌                  | 317 kB 5.1 MB/s eta 0:00:01\r\u001b[K     |██████████████                  | 327 kB 5.1 MB/s eta 0:00:01\r\u001b[K     |██████████████▎                 | 337 kB 5.1 MB/s eta 0:00:01\r\u001b[K     |██████████████▊                 | 348 kB 5.1 MB/s eta 0:00:01\r\u001b[K     |███████████████▏                | 358 kB 5.1 MB/s eta 0:00:01\r\u001b[K     |███████████████▋                | 368 kB 5.1 MB/s eta 0:00:01\r\u001b[K     |████████████████                | 378 kB 5.1 MB/s eta 0:00:01\r\u001b[K     |████████████████▌               | 389 kB 5.1 MB/s eta 0:00:01\r\u001b[K     |█████████████████               | 399 kB 5.1 MB/s eta 0:00:01\r\u001b[K     |█████████████████▍              | 409 kB 5.1 MB/s eta 0:00:01\r\u001b[K     |█████████████████▉              | 419 kB 5.1 MB/s eta 0:00:01\r\u001b[K     |██████████████████▎             | 430 kB 5.1 MB/s eta 0:00:01\r\u001b[K     |██████████████████▊             | 440 kB 5.1 MB/s eta 0:00:01\r\u001b[K     |███████████████████             | 450 kB 5.1 MB/s eta 0:00:01\r\u001b[K     |███████████████████▌            | 460 kB 5.1 MB/s eta 0:00:01\r\u001b[K     |████████████████████            | 471 kB 5.1 MB/s eta 0:00:01\r\u001b[K     |████████████████████▍           | 481 kB 5.1 MB/s eta 0:00:01\r\u001b[K     |████████████████████▉           | 491 kB 5.1 MB/s eta 0:00:01\r\u001b[K     |█████████████████████▎          | 501 kB 5.1 MB/s eta 0:00:01\r\u001b[K     |█████████████████████▊          | 512 kB 5.1 MB/s eta 0:00:01\r\u001b[K     |██████████████████████▏         | 522 kB 5.1 MB/s eta 0:00:01\r\u001b[K     |██████████████████████▋         | 532 kB 5.1 MB/s eta 0:00:01\r\u001b[K     |███████████████████████         | 542 kB 5.1 MB/s eta 0:00:01\r\u001b[K     |███████████████████████▌        | 552 kB 5.1 MB/s eta 0:00:01\r\u001b[K     |███████████████████████▉        | 563 kB 5.1 MB/s eta 0:00:01\r\u001b[K     |████████████████████████▎       | 573 kB 5.1 MB/s eta 0:00:01\r\u001b[K     |████████████████████████▊       | 583 kB 5.1 MB/s eta 0:00:01\r\u001b[K     |█████████████████████████▏      | 593 kB 5.1 MB/s eta 0:00:01\r\u001b[K     |█████████████████████████▋      | 604 kB 5.1 MB/s eta 0:00:01\r\u001b[K     |██████████████████████████      | 614 kB 5.1 MB/s eta 0:00:01\r\u001b[K     |██████████████████████████▌     | 624 kB 5.1 MB/s eta 0:00:01\r\u001b[K     |███████████████████████████     | 634 kB 5.1 MB/s eta 0:00:01\r\u001b[K     |███████████████████████████▍    | 645 kB 5.1 MB/s eta 0:00:01\r\u001b[K     |███████████████████████████▉    | 655 kB 5.1 MB/s eta 0:00:01\r\u001b[K     |████████████████████████████▎   | 665 kB 5.1 MB/s eta 0:00:01\r\u001b[K     |████████████████████████████▋   | 675 kB 5.1 MB/s eta 0:00:01\r\u001b[K     |█████████████████████████████   | 686 kB 5.1 MB/s eta 0:00:01\r\u001b[K     |█████████████████████████████▌  | 696 kB 5.1 MB/s eta 0:00:01\r\u001b[K     |██████████████████████████████  | 706 kB 5.1 MB/s eta 0:00:01\r\u001b[K     |██████████████████████████████▍ | 716 kB 5.1 MB/s eta 0:00:01\r\u001b[K     |██████████████████████████████▉ | 727 kB 5.1 MB/s eta 0:00:01\r\u001b[K     |███████████████████████████████▎| 737 kB 5.1 MB/s eta 0:00:01\r\u001b[K     |███████████████████████████████▊| 747 kB 5.1 MB/s eta 0:00:01\r\u001b[K     |████████████████████████████████| 754 kB 5.1 MB/s \n",
            "\u001b[?25hCollecting tokenizers==0.8.0-rc4\n",
            "  Downloading tokenizers-0.8.0rc4-cp37-cp37m-manylinux1_x86_64.whl (3.0 MB)\n",
            "\u001b[K     |████████████████████████████████| 3.0 MB 38.8 MB/s \n",
            "\u001b[?25hCollecting sacremoses\n",
            "  Downloading sacremoses-0.0.47-py2.py3-none-any.whl (895 kB)\n",
            "\u001b[K     |████████████████████████████████| 895 kB 48.8 MB/s \n",
            "\u001b[?25hRequirement already satisfied: regex!=2019.12.17 in /usr/local/lib/python3.7/dist-packages (from transformers==3) (2019.12.20)\n",
            "Requirement already satisfied: tqdm>=4.27 in /usr/local/lib/python3.7/dist-packages (from transformers==3) (4.62.3)\n",
            "Requirement already satisfied: numpy in /usr/local/lib/python3.7/dist-packages (from transformers==3) (1.21.5)\n",
            "Collecting sentencepiece\n",
            "  Downloading sentencepiece-0.1.96-cp37-cp37m-manylinux_2_17_x86_64.manylinux2014_x86_64.whl (1.2 MB)\n",
            "\u001b[K     |████████████████████████████████| 1.2 MB 43.1 MB/s \n",
            "\u001b[?25hRequirement already satisfied: filelock in /usr/local/lib/python3.7/dist-packages (from transformers==3) (3.4.2)\n",
            "Requirement already satisfied: requests in /usr/local/lib/python3.7/dist-packages (from transformers==3) (2.23.0)\n",
            "Requirement already satisfied: packaging in /usr/local/lib/python3.7/dist-packages (from transformers==3) (21.3)\n",
            "Requirement already satisfied: pyparsing!=3.0.5,>=2.0.2 in /usr/local/lib/python3.7/dist-packages (from packaging->transformers==3) (3.0.7)\n",
            "Requirement already satisfied: urllib3!=1.25.0,!=1.25.1,<1.26,>=1.21.1 in /usr/local/lib/python3.7/dist-packages (from requests->transformers==3) (1.24.3)\n",
            "Requirement already satisfied: chardet<4,>=3.0.2 in /usr/local/lib/python3.7/dist-packages (from requests->transformers==3) (3.0.4)\n",
            "Requirement already satisfied: idna<3,>=2.5 in /usr/local/lib/python3.7/dist-packages (from requests->transformers==3) (2.10)\n",
            "Requirement already satisfied: certifi>=2017.4.17 in /usr/local/lib/python3.7/dist-packages (from requests->transformers==3) (2021.10.8)\n",
            "Requirement already satisfied: click in /usr/local/lib/python3.7/dist-packages (from sacremoses->transformers==3) (7.1.2)\n",
            "Requirement already satisfied: joblib in /usr/local/lib/python3.7/dist-packages (from sacremoses->transformers==3) (1.1.0)\n",
            "Requirement already satisfied: six in /usr/local/lib/python3.7/dist-packages (from sacremoses->transformers==3) (1.15.0)\n",
            "Installing collected packages: tokenizers, sentencepiece, sacremoses, transformers\n",
            "Successfully installed sacremoses-0.0.47 sentencepiece-0.1.96 tokenizers-0.8.0rc4 transformers-3.0.0\n"
          ]
        }
      ]
    },
    {
      "cell_type": "code",
      "source": [
        "import numpy as np\n",
        "import pandas as pd\n",
        "import torch\n",
        "import torch.nn as nn\n",
        "from sklearn.model_selection import train_test_split\n",
        "from sklearn.metrics import classification_report\n",
        "import transformers\n",
        "from transformers import AutoModel, BertTokenizerFast\n",
        "\n",
        "# Use GPU\n",
        "device = torch.device(\"cpu\")"
      ],
      "metadata": {
        "id": "06XAujZyagpb"
      },
      "execution_count": null,
      "outputs": []
    },
    {
      "cell_type": "code",
      "source": [
        "bert = AutoModel.from_pretrained('bert-base-uncased')\n",
        "tokenizer = BertTokenizerFast.from_pretrained('bert-base-uncased')"
      ],
      "metadata": {
        "colab": {
          "base_uri": "https://localhost:8080/",
          "height": 113,
          "referenced_widgets": [
            "6c37a47fd0574ee885331ce94eec786f",
            "05faa81e1a5c4b60945f524aee89c319",
            "ca0fcc9fd33245f184425eec55ec41cb",
            "1cf2896a6efb4e28b2ad756227ba7aa7",
            "eedfc123473e4c3d935d0c09c9e5f1ca",
            "f38d629631814c259cfc3cc80629e315",
            "456aee82e5c04e848753e225368364c4",
            "39b527fc540849078d761b37da6b68a5",
            "3fb151e601eb4fca8b5852b4a99c2499",
            "e1665f0222c1445aa41e677c79b0760f",
            "43e8ee0911ec4f849d95030156b65992",
            "505662432c0c49748d197210e74b8056",
            "e25a266822934b269971838dd368ec85",
            "2c22227d46fe441584584a869db3bdcc",
            "11d79425f838482cb054a957013621a6",
            "10c16d5b85eb4b108bbf7593cf6fa332",
            "79f1c3b4dc5942bfa6b9aae77040e670",
            "76a639ae41564cd889bfda38f9eb98c5",
            "22f1ae82a7934babbb78ee235865f3e2",
            "2154bc4eb95043a390ed2893af581a69",
            "5b4e92dc9fc44fc1bb61f8cf2aca7a5c",
            "35ad507a150f4f2394633b61ad548289",
            "c54193170ecf48aa887941bf810cbba6",
            "fc192e02e9c247f9a4196f21a0d45458",
            "83012c83be6a424fac9cfe1db3c28359",
            "fba8d1be2be0404d9b9f84eb0c7da816",
            "d35a26401ce84c74a8c729638d9b1fdd",
            "ad78d5c8cf9b4bb2a8be4aca06c97a3b",
            "1c112486e7494cfa8f271a72be7a38a4",
            "9142a04e96bf4f72979bbd74bd0f1c8d",
            "c9d2e30038f34d9a863a68429db9dfd1",
            "b8cdb1b1b5e54e70b30b29d8e20e39a0",
            "1e493bdd34a249c589c9bc643f7de8e4"
          ]
        },
        "id": "5IqTmjQKa47T",
        "outputId": "42ea274d-b97f-4e3c-ac96-da4ed928efcc"
      },
      "execution_count": null,
      "outputs": [
        {
          "output_type": "display_data",
          "data": {
            "application/vnd.jupyter.widget-view+json": {
              "model_id": "6c37a47fd0574ee885331ce94eec786f",
              "version_minor": 0,
              "version_major": 2
            },
            "text/plain": [
              "Downloading:   0%|          | 0.00/433 [00:00<?, ?B/s]"
            ]
          },
          "metadata": {}
        },
        {
          "output_type": "display_data",
          "data": {
            "application/vnd.jupyter.widget-view+json": {
              "model_id": "505662432c0c49748d197210e74b8056",
              "version_minor": 0,
              "version_major": 2
            },
            "text/plain": [
              "Downloading:   0%|          | 0.00/440M [00:00<?, ?B/s]"
            ]
          },
          "metadata": {}
        },
        {
          "output_type": "display_data",
          "data": {
            "application/vnd.jupyter.widget-view+json": {
              "model_id": "c54193170ecf48aa887941bf810cbba6",
              "version_minor": 0,
              "version_major": 2
            },
            "text/plain": [
              "Downloading:   0%|          | 0.00/232k [00:00<?, ?B/s]"
            ]
          },
          "metadata": {}
        }
      ]
    },
    {
      "cell_type": "code",
      "source": [
        "class BERT_Arch(nn.Module):\n",
        "    def __init__(self, bert):\n",
        "      super(BERT_Arch, self).__init__()\n",
        "      self.bert = bert \n",
        "      self.dropout = nn.Dropout(0.1)\n",
        "      self.relu =  nn.ReLU()\n",
        "      self.fc1 = nn.Linear(768,512)\n",
        "      self.fc2 = nn.Linear(512,2)\n",
        "      self.softmax = nn.LogSoftmax(dim=1)\n",
        "\n",
        "    def forward(self, sent_id, mask):\n",
        "      _, cls_hs = self.bert(sent_id, attention_mask=mask)\n",
        "      x = self.fc1(cls_hs)\n",
        "      x = self.relu(x)\n",
        "      x = self.dropout(x)\n",
        "      x = self.fc2(x)\n",
        "      x = self.softmax(x)\n",
        "      return x"
      ],
      "metadata": {
        "id": "_iUrYWNlbMmE"
      },
      "execution_count": null,
      "outputs": []
    },
    {
      "cell_type": "code",
      "source": [
        "from google.colab import drive\n",
        "drive.mount('/content/drive')"
      ],
      "metadata": {
        "colab": {
          "base_uri": "https://localhost:8080/"
        },
        "id": "xSV7M-OnbcTp",
        "outputId": "98652075-dcf4-4708-e90e-690b2764e0f3"
      },
      "execution_count": null,
      "outputs": [
        {
          "output_type": "stream",
          "name": "stdout",
          "text": [
            "Mounted at /content/drive\n"
          ]
        }
      ]
    },
    {
      "cell_type": "code",
      "source": [
        "model = BERT_Arch(bert)\n",
        "model.load_state_dict(torch.load('/content/drive/MyDrive/Sad_Depression_Classification/BERT_Baseline_weights.pt', map_location=device))"
      ],
      "metadata": {
        "colab": {
          "base_uri": "https://localhost:8080/"
        },
        "id": "esoiwGK0bSkb",
        "outputId": "e5f929dd-980f-404a-d26c-668519c9de50"
      },
      "execution_count": null,
      "outputs": [
        {
          "output_type": "execute_result",
          "data": {
            "text/plain": [
              "<All keys matched successfully>"
            ]
          },
          "metadata": {},
          "execution_count": 7
        }
      ]
    },
    {
      "cell_type": "code",
      "source": [
        "df = pd.read_csv(\"./Sad_Depression_Classification/ACL_FINAL_Data.csv\")\n",
        "df.rename(columns = {'Text':'tweet', 'Label':'target'}, inplace = True)\n",
        "df.target = df.target.astype(int)\n",
        "df.head(20)"
      ],
      "metadata": {
        "colab": {
          "base_uri": "https://localhost:8080/",
          "height": 676
        },
        "id": "C2C1ayh8amrV",
        "outputId": "f852ecd4-f33b-4669-e3ce-7e9939cb2209"
      },
      "execution_count": null,
      "outputs": [
        {
          "output_type": "execute_result",
          "data": {
            "text/html": [
              "\n",
              "  <div id=\"df-7fe22b44-f906-414a-b9c5-a0db21883fac\">\n",
              "    <div class=\"colab-df-container\">\n",
              "      <div>\n",
              "<style scoped>\n",
              "    .dataframe tbody tr th:only-of-type {\n",
              "        vertical-align: middle;\n",
              "    }\n",
              "\n",
              "    .dataframe tbody tr th {\n",
              "        vertical-align: top;\n",
              "    }\n",
              "\n",
              "    .dataframe thead th {\n",
              "        text-align: right;\n",
              "    }\n",
              "</style>\n",
              "<table border=\"1\" class=\"dataframe\">\n",
              "  <thead>\n",
              "    <tr style=\"text-align: right;\">\n",
              "      <th></th>\n",
              "      <th>Unnamed: 0</th>\n",
              "      <th>tweet</th>\n",
              "      <th>target</th>\n",
              "    </tr>\n",
              "  </thead>\n",
              "  <tbody>\n",
              "    <tr>\n",
              "      <th>0</th>\n",
              "      <td>251</td>\n",
              "      <td>i feel guilty i wont be able to give this litt...</td>\n",
              "      <td>0</td>\n",
              "    </tr>\n",
              "    <tr>\n",
              "      <th>1</th>\n",
              "      <td>2295</td>\n",
              "      <td>There’s no point in even trying anymore. It’s ...</td>\n",
              "      <td>1</td>\n",
              "    </tr>\n",
              "    <tr>\n",
              "      <th>2</th>\n",
              "      <td>918</td>\n",
              "      <td>i was taught to complain and feel unhappy but ...</td>\n",
              "      <td>0</td>\n",
              "    </tr>\n",
              "    <tr>\n",
              "      <th>3</th>\n",
              "      <td>1990</td>\n",
              "      <td>There are probably serial killers who sleep ea...</td>\n",
              "      <td>1</td>\n",
              "    </tr>\n",
              "    <tr>\n",
              "      <th>4</th>\n",
              "      <td>1241</td>\n",
              "      <td>His brown , nearly auburn hair clung to his sc...</td>\n",
              "      <td>0</td>\n",
              "    </tr>\n",
              "    <tr>\n",
              "      <th>5</th>\n",
              "      <td>1724</td>\n",
              "      <td>im feeling like the lunches are dull</td>\n",
              "      <td>0</td>\n",
              "    </tr>\n",
              "    <tr>\n",
              "      <th>6</th>\n",
              "      <td>726</td>\n",
              "      <td>i feel rotten but no amount of suggesting that...</td>\n",
              "      <td>0</td>\n",
              "    </tr>\n",
              "    <tr>\n",
              "      <th>7</th>\n",
              "      <td>1242</td>\n",
              "      <td>I am sad because some relations to friends are...</td>\n",
              "      <td>0</td>\n",
              "    </tr>\n",
              "    <tr>\n",
              "      <th>8</th>\n",
              "      <td>1132</td>\n",
              "      <td>The loss of a person I loved very much is some...</td>\n",
              "      <td>0</td>\n",
              "    </tr>\n",
              "    <tr>\n",
              "      <th>9</th>\n",
              "      <td>706</td>\n",
              "      <td>i forgive myself that i have accepted and allo...</td>\n",
              "      <td>0</td>\n",
              "    </tr>\n",
              "    <tr>\n",
              "      <th>10</th>\n",
              "      <td>1843</td>\n",
              "      <td>i still feel stupid to be in that class this i...</td>\n",
              "      <td>0</td>\n",
              "    </tr>\n",
              "    <tr>\n",
              "      <th>11</th>\n",
              "      <td>763</td>\n",
              "      <td>i feel ungrateful for wanting more but the tru...</td>\n",
              "      <td>0</td>\n",
              "    </tr>\n",
              "    <tr>\n",
              "      <th>12</th>\n",
              "      <td>225</td>\n",
              "      <td>i do that i feel ashamed of</td>\n",
              "      <td>0</td>\n",
              "    </tr>\n",
              "    <tr>\n",
              "      <th>13</th>\n",
              "      <td>494</td>\n",
              "      <td>im feeling really sentimental about things tha...</td>\n",
              "      <td>0</td>\n",
              "    </tr>\n",
              "    <tr>\n",
              "      <th>14</th>\n",
              "      <td>2923</td>\n",
              "      <td>I don’t want to bother my friends</td>\n",
              "      <td>1</td>\n",
              "    </tr>\n",
              "    <tr>\n",
              "      <th>15</th>\n",
              "      <td>2405</td>\n",
              "      <td>you all depression ever made you stay home and...</td>\n",
              "      <td>1</td>\n",
              "    </tr>\n",
              "    <tr>\n",
              "      <th>16</th>\n",
              "      <td>2807</td>\n",
              "      <td>I love you guys</td>\n",
              "      <td>1</td>\n",
              "    </tr>\n",
              "    <tr>\n",
              "      <th>17</th>\n",
              "      <td>1076</td>\n",
              "      <td>i feel like it s totally vain and totally nece...</td>\n",
              "      <td>0</td>\n",
              "    </tr>\n",
              "    <tr>\n",
              "      <th>18</th>\n",
              "      <td>2328</td>\n",
              "      <td>ha ha i just realised that i've never actually...</td>\n",
              "      <td>1</td>\n",
              "    </tr>\n",
              "    <tr>\n",
              "      <th>19</th>\n",
              "      <td>1856</td>\n",
              "      <td>i feel devastated that my art style can be copied</td>\n",
              "      <td>0</td>\n",
              "    </tr>\n",
              "  </tbody>\n",
              "</table>\n",
              "</div>\n",
              "      <button class=\"colab-df-convert\" onclick=\"convertToInteractive('df-7fe22b44-f906-414a-b9c5-a0db21883fac')\"\n",
              "              title=\"Convert this dataframe to an interactive table.\"\n",
              "              style=\"display:none;\">\n",
              "        \n",
              "  <svg xmlns=\"http://www.w3.org/2000/svg\" height=\"24px\"viewBox=\"0 0 24 24\"\n",
              "       width=\"24px\">\n",
              "    <path d=\"M0 0h24v24H0V0z\" fill=\"none\"/>\n",
              "    <path d=\"M18.56 5.44l.94 2.06.94-2.06 2.06-.94-2.06-.94-.94-2.06-.94 2.06-2.06.94zm-11 1L8.5 8.5l.94-2.06 2.06-.94-2.06-.94L8.5 2.5l-.94 2.06-2.06.94zm10 10l.94 2.06.94-2.06 2.06-.94-2.06-.94-.94-2.06-.94 2.06-2.06.94z\"/><path d=\"M17.41 7.96l-1.37-1.37c-.4-.4-.92-.59-1.43-.59-.52 0-1.04.2-1.43.59L10.3 9.45l-7.72 7.72c-.78.78-.78 2.05 0 2.83L4 21.41c.39.39.9.59 1.41.59.51 0 1.02-.2 1.41-.59l7.78-7.78 2.81-2.81c.8-.78.8-2.07 0-2.86zM5.41 20L4 18.59l7.72-7.72 1.47 1.35L5.41 20z\"/>\n",
              "  </svg>\n",
              "      </button>\n",
              "      \n",
              "  <style>\n",
              "    .colab-df-container {\n",
              "      display:flex;\n",
              "      flex-wrap:wrap;\n",
              "      gap: 12px;\n",
              "    }\n",
              "\n",
              "    .colab-df-convert {\n",
              "      background-color: #E8F0FE;\n",
              "      border: none;\n",
              "      border-radius: 50%;\n",
              "      cursor: pointer;\n",
              "      display: none;\n",
              "      fill: #1967D2;\n",
              "      height: 32px;\n",
              "      padding: 0 0 0 0;\n",
              "      width: 32px;\n",
              "    }\n",
              "\n",
              "    .colab-df-convert:hover {\n",
              "      background-color: #E2EBFA;\n",
              "      box-shadow: 0px 1px 2px rgba(60, 64, 67, 0.3), 0px 1px 3px 1px rgba(60, 64, 67, 0.15);\n",
              "      fill: #174EA6;\n",
              "    }\n",
              "\n",
              "    [theme=dark] .colab-df-convert {\n",
              "      background-color: #3B4455;\n",
              "      fill: #D2E3FC;\n",
              "    }\n",
              "\n",
              "    [theme=dark] .colab-df-convert:hover {\n",
              "      background-color: #434B5C;\n",
              "      box-shadow: 0px 1px 3px 1px rgba(0, 0, 0, 0.15);\n",
              "      filter: drop-shadow(0px 1px 2px rgba(0, 0, 0, 0.3));\n",
              "      fill: #FFFFFF;\n",
              "    }\n",
              "  </style>\n",
              "\n",
              "      <script>\n",
              "        const buttonEl =\n",
              "          document.querySelector('#df-7fe22b44-f906-414a-b9c5-a0db21883fac button.colab-df-convert');\n",
              "        buttonEl.style.display =\n",
              "          google.colab.kernel.accessAllowed ? 'block' : 'none';\n",
              "\n",
              "        async function convertToInteractive(key) {\n",
              "          const element = document.querySelector('#df-7fe22b44-f906-414a-b9c5-a0db21883fac');\n",
              "          const dataTable =\n",
              "            await google.colab.kernel.invokeFunction('convertToInteractive',\n",
              "                                                     [key], {});\n",
              "          if (!dataTable) return;\n",
              "\n",
              "          const docLinkHtml = 'Like what you see? Visit the ' +\n",
              "            '<a target=\"_blank\" href=https://colab.research.google.com/notebooks/data_table.ipynb>data table notebook</a>'\n",
              "            + ' to learn more about interactive tables.';\n",
              "          element.innerHTML = '';\n",
              "          dataTable['output_type'] = 'display_data';\n",
              "          await google.colab.output.renderOutput(dataTable, element);\n",
              "          const docLink = document.createElement('div');\n",
              "          docLink.innerHTML = docLinkHtml;\n",
              "          element.appendChild(docLink);\n",
              "        }\n",
              "      </script>\n",
              "    </div>\n",
              "  </div>\n",
              "  "
            ],
            "text/plain": [
              "    Unnamed: 0                                              tweet  target\n",
              "0          251  i feel guilty i wont be able to give this litt...       0\n",
              "1         2295  There’s no point in even trying anymore. It’s ...       1\n",
              "2          918  i was taught to complain and feel unhappy but ...       0\n",
              "3         1990  There are probably serial killers who sleep ea...       1\n",
              "4         1241  His brown , nearly auburn hair clung to his sc...       0\n",
              "5         1724               im feeling like the lunches are dull       0\n",
              "6          726  i feel rotten but no amount of suggesting that...       0\n",
              "7         1242  I am sad because some relations to friends are...       0\n",
              "8         1132  The loss of a person I loved very much is some...       0\n",
              "9          706  i forgive myself that i have accepted and allo...       0\n",
              "10        1843  i still feel stupid to be in that class this i...       0\n",
              "11         763  i feel ungrateful for wanting more but the tru...       0\n",
              "12         225                        i do that i feel ashamed of       0\n",
              "13         494  im feeling really sentimental about things tha...       0\n",
              "14        2923                  I don’t want to bother my friends       1\n",
              "15        2405  you all depression ever made you stay home and...       1\n",
              "16        2807                                    I love you guys       1\n",
              "17        1076  i feel like it s totally vain and totally nece...       0\n",
              "18        2328  ha ha i just realised that i've never actually...       1\n",
              "19        1856  i feel devastated that my art style can be copied       0"
            ]
          },
          "metadata": {},
          "execution_count": 8
        }
      ]
    },
    {
      "cell_type": "code",
      "source": [
        "train_text, temp_text, train_labels, temp_labels = train_test_split(df['tweet'], df['target'], \n",
        "                                                                    random_state=2018, \n",
        "                                                                    test_size=0.2, \n",
        "                                                                    stratify=df['target'])\n",
        "\n",
        "# Using temp_text and temp_labels to create validation and test set\n",
        "val_text, test_text, val_labels, test_labels = train_test_split(temp_text, temp_labels, \n",
        "                                                                random_state=2018, \n",
        "                                                                test_size=0.1, \n",
        "                                                                stratify=temp_labels)"
      ],
      "metadata": {
        "id": "WKca9XDAavdd"
      },
      "execution_count": null,
      "outputs": []
    },
    {
      "cell_type": "code",
      "source": [
        "def test_model(texts, max_seq_len=25):\n",
        "  tokens_p = tokenizer.batch_encode_plus(\n",
        "      texts,\n",
        "      max_length = max_seq_len,\n",
        "      pad_to_max_length=True,\n",
        "      truncation=True,\n",
        "      return_token_type_ids=False\n",
        "  )\n",
        "  p_seq = torch.tensor(tokens_p['input_ids'])\n",
        "  p_mask = torch.tensor(tokens_p['attention_mask'])\n",
        "  with torch.no_grad():\n",
        "    preds = model(p_seq.to(device), p_mask.to(device))\n",
        "    preds = preds.detach().cpu().numpy()\n",
        "    return preds"
      ],
      "metadata": {
        "id": "HUdrTMrAcsH8"
      },
      "execution_count": null,
      "outputs": []
    },
    {
      "cell_type": "code",
      "source": [
        "def analyze(texts, labels):\n",
        "  texts = texts.tolist()\n",
        "  labels = labels.tolist()\n",
        "  preds = test_model(texts)\n",
        "  preds = np.argmax(preds, axis = 1)\n",
        "  print(classification_report(labels, preds))"
      ],
      "metadata": {
        "id": "QYofoDn1b2_4"
      },
      "execution_count": null,
      "outputs": []
    },
    {
      "cell_type": "code",
      "source": [
        "print(\"Test\")\n",
        "analyze(test_text, test_labels)"
      ],
      "metadata": {
        "colab": {
          "base_uri": "https://localhost:8080/"
        },
        "id": "wcg5Rvn8eJI5",
        "outputId": "31bae364-2b2d-4866-feb6-5decc56d0eb6"
      },
      "execution_count": null,
      "outputs": [
        {
          "output_type": "stream",
          "name": "stdout",
          "text": [
            "Test\n",
            "              precision    recall  f1-score   support\n",
            "\n",
            "           0       0.88      0.95      0.91        39\n",
            "           1       0.92      0.81      0.86        27\n",
            "\n",
            "    accuracy                           0.89        66\n",
            "   macro avg       0.90      0.88      0.89        66\n",
            "weighted avg       0.90      0.89      0.89        66\n",
            "\n"
          ]
        }
      ]
    },
    {
      "cell_type": "code",
      "source": [
        "!pip install lime"
      ],
      "metadata": {
        "colab": {
          "base_uri": "https://localhost:8080/"
        },
        "id": "_nd_BXpGl80-",
        "outputId": "b96af487-a934-4eec-bffe-77c90d1c9c28"
      },
      "execution_count": null,
      "outputs": [
        {
          "output_type": "stream",
          "name": "stdout",
          "text": [
            "Collecting lime\n",
            "  Downloading lime-0.2.0.1.tar.gz (275 kB)\n",
            "\u001b[?25l\r\u001b[K     |█▏                              | 10 kB 22.2 MB/s eta 0:00:01\r\u001b[K     |██▍                             | 20 kB 13.5 MB/s eta 0:00:01\r\u001b[K     |███▋                            | 30 kB 9.7 MB/s eta 0:00:01\r\u001b[K     |████▊                           | 40 kB 8.1 MB/s eta 0:00:01\r\u001b[K     |██████                          | 51 kB 4.3 MB/s eta 0:00:01\r\u001b[K     |███████▏                        | 61 kB 5.0 MB/s eta 0:00:01\r\u001b[K     |████████▎                       | 71 kB 5.7 MB/s eta 0:00:01\r\u001b[K     |█████████▌                      | 81 kB 5.6 MB/s eta 0:00:01\r\u001b[K     |██████████▊                     | 92 kB 6.2 MB/s eta 0:00:01\r\u001b[K     |███████████▉                    | 102 kB 5.1 MB/s eta 0:00:01\r\u001b[K     |█████████████                   | 112 kB 5.1 MB/s eta 0:00:01\r\u001b[K     |██████████████▎                 | 122 kB 5.1 MB/s eta 0:00:01\r\u001b[K     |███████████████▌                | 133 kB 5.1 MB/s eta 0:00:01\r\u001b[K     |████████████████▋               | 143 kB 5.1 MB/s eta 0:00:01\r\u001b[K     |█████████████████▉              | 153 kB 5.1 MB/s eta 0:00:01\r\u001b[K     |███████████████████             | 163 kB 5.1 MB/s eta 0:00:01\r\u001b[K     |████████████████████▏           | 174 kB 5.1 MB/s eta 0:00:01\r\u001b[K     |█████████████████████▍          | 184 kB 5.1 MB/s eta 0:00:01\r\u001b[K     |██████████████████████▋         | 194 kB 5.1 MB/s eta 0:00:01\r\u001b[K     |███████████████████████▊        | 204 kB 5.1 MB/s eta 0:00:01\r\u001b[K     |█████████████████████████       | 215 kB 5.1 MB/s eta 0:00:01\r\u001b[K     |██████████████████████████▏     | 225 kB 5.1 MB/s eta 0:00:01\r\u001b[K     |███████████████████████████▍    | 235 kB 5.1 MB/s eta 0:00:01\r\u001b[K     |████████████████████████████▌   | 245 kB 5.1 MB/s eta 0:00:01\r\u001b[K     |█████████████████████████████▊  | 256 kB 5.1 MB/s eta 0:00:01\r\u001b[K     |███████████████████████████████ | 266 kB 5.1 MB/s eta 0:00:01\r\u001b[K     |████████████████████████████████| 275 kB 5.1 MB/s \n",
            "\u001b[?25hRequirement already satisfied: matplotlib in /usr/local/lib/python3.7/dist-packages (from lime) (3.2.2)\n",
            "Requirement already satisfied: numpy in /usr/local/lib/python3.7/dist-packages (from lime) (1.21.5)\n",
            "Requirement already satisfied: scipy in /usr/local/lib/python3.7/dist-packages (from lime) (1.4.1)\n",
            "Requirement already satisfied: tqdm in /usr/local/lib/python3.7/dist-packages (from lime) (4.62.3)\n",
            "Requirement already satisfied: scikit-learn>=0.18 in /usr/local/lib/python3.7/dist-packages (from lime) (1.0.2)\n",
            "Requirement already satisfied: scikit-image>=0.12 in /usr/local/lib/python3.7/dist-packages (from lime) (0.18.3)\n",
            "Requirement already satisfied: tifffile>=2019.7.26 in /usr/local/lib/python3.7/dist-packages (from scikit-image>=0.12->lime) (2021.11.2)\n",
            "Requirement already satisfied: imageio>=2.3.0 in /usr/local/lib/python3.7/dist-packages (from scikit-image>=0.12->lime) (2.4.1)\n",
            "Requirement already satisfied: pillow!=7.1.0,!=7.1.1,>=4.3.0 in /usr/local/lib/python3.7/dist-packages (from scikit-image>=0.12->lime) (7.1.2)\n",
            "Requirement already satisfied: PyWavelets>=1.1.1 in /usr/local/lib/python3.7/dist-packages (from scikit-image>=0.12->lime) (1.2.0)\n",
            "Requirement already satisfied: networkx>=2.0 in /usr/local/lib/python3.7/dist-packages (from scikit-image>=0.12->lime) (2.6.3)\n",
            "Requirement already satisfied: python-dateutil>=2.1 in /usr/local/lib/python3.7/dist-packages (from matplotlib->lime) (2.8.2)\n",
            "Requirement already satisfied: kiwisolver>=1.0.1 in /usr/local/lib/python3.7/dist-packages (from matplotlib->lime) (1.3.2)\n",
            "Requirement already satisfied: cycler>=0.10 in /usr/local/lib/python3.7/dist-packages (from matplotlib->lime) (0.11.0)\n",
            "Requirement already satisfied: pyparsing!=2.0.4,!=2.1.2,!=2.1.6,>=2.0.1 in /usr/local/lib/python3.7/dist-packages (from matplotlib->lime) (3.0.7)\n",
            "Requirement already satisfied: six>=1.5 in /usr/local/lib/python3.7/dist-packages (from python-dateutil>=2.1->matplotlib->lime) (1.15.0)\n",
            "Requirement already satisfied: threadpoolctl>=2.0.0 in /usr/local/lib/python3.7/dist-packages (from scikit-learn>=0.18->lime) (3.1.0)\n",
            "Requirement already satisfied: joblib>=0.11 in /usr/local/lib/python3.7/dist-packages (from scikit-learn>=0.18->lime) (1.1.0)\n",
            "Building wheels for collected packages: lime\n",
            "  Building wheel for lime (setup.py) ... \u001b[?25l\u001b[?25hdone\n",
            "  Created wheel for lime: filename=lime-0.2.0.1-py3-none-any.whl size=283857 sha256=5055f550aebcaa279d8f53ae2c6eac2622cf619add9e47c2421cc55a35ba1582\n",
            "  Stored in directory: /root/.cache/pip/wheels/ca/cb/e5/ac701e12d365a08917bf4c6171c0961bc880a8181359c66aa7\n",
            "Successfully built lime\n",
            "Installing collected packages: lime\n",
            "Successfully installed lime-0.2.0.1\n"
          ]
        }
      ]
    },
    {
      "cell_type": "code",
      "source": [
        "import lime\n",
        "from lime import lime_text\n",
        "from lime.lime_text import LimeTextExplainer\n",
        "import time\n",
        "from tqdm import trange\n",
        "import torch"
      ],
      "metadata": {
        "id": "l3lykG7efXA8"
      },
      "execution_count": null,
      "outputs": []
    },
    {
      "cell_type": "code",
      "source": [
        "explainer = LimeTextExplainer(class_names=[\"label:0\", \"label:1\"])"
      ],
      "metadata": {
        "id": "3B8Mugu1l7dI"
      },
      "execution_count": null,
      "outputs": []
    },
    {
      "cell_type": "code",
      "source": [
        "texts = test_text.tolist()\n",
        "labels = test_labels.tolist()"
      ],
      "metadata": {
        "id": "TyL2T6Xnmfs5"
      },
      "execution_count": null,
      "outputs": []
    },
    {
      "cell_type": "code",
      "source": [
        "d_array = []\n",
        "for i in trange(len(texts)):\n",
        "  exp = explainer.explain_instance(texts[i], test_model, num_features=6, labels=[0, 1], num_samples=500)\n",
        "  d_array.append({\"sentence\":texts[i], \"label:0\": exp.as_list(label=0), \"label:1\": exp.as_list(label=1)})"
      ],
      "metadata": {
        "colab": {
          "base_uri": "https://localhost:8080/"
        },
        "id": "Vx98C5qjpPfy",
        "outputId": "0b709679-b6fe-4a4e-f345-f33f141c9c36"
      },
      "execution_count": null,
      "outputs": [
        {
          "output_type": "stream",
          "name": "stderr",
          "text": [
            "100%|██████████| 66/66 [41:06<00:00, 37.36s/it]\n"
          ]
        }
      ]
    },
    {
      "cell_type": "code",
      "source": [
        "torch.save(d_array, '/content/drive/MyDrive/Sad_Depression_Classification/BERT_Baseline_XAI.pt')"
      ],
      "metadata": {
        "id": "dIgq0BtdpQXF"
      },
      "execution_count": null,
      "outputs": []
    },
    {
      "cell_type": "code",
      "source": [
        "print(torch.load('/content/drive/MyDrive/Sad_Depression_Classification/BERT_Baseline_XAI.pt'))"
      ],
      "metadata": {
        "colab": {
          "base_uri": "https://localhost:8080/"
        },
        "id": "Ubc39n2qSVTN",
        "outputId": "ab87f66e-92f5-484c-d891-ad10761eb93f"
      },
      "execution_count": null,
      "outputs": [
        {
          "output_type": "stream",
          "name": "stdout",
          "text": [
            "[{'sentence': 'i feel so emotional today', 'label:0': [('i', 0.6712686645207422), ('emotional', 0.5103890637053006), ('so', 0.2910599292048261), ('feel', 0.23361621970168134), ('today', 0.15382671002249537)], 'label:1': [('i', -1.525817551503138), ('emotional', -1.0338952132034596), ('so', -0.7963901677945274), ('today', -0.2514940264515784), ('feel', -0.059140209361390646)]}, {'sentence': 'i never been feel this ashame this humiliated in life', 'label:0': [('i', 0.7920405181927591), ('humiliated', 0.33994475883807285), ('in', 0.33100072358166865), ('feel', 0.20822922843831612), ('never', 0.1517456497471808), ('this', 0.11316333721992856)], 'label:1': [('i', -0.9576210012079927), ('humiliated', -0.45926297742523015), ('in', -0.39368583194844475), ('feel', -0.34795485259958536), ('never', -0.2997647417203574), ('been', -0.22384090817735328)]}, {'sentence': 'i began to feel a bit regretful', 'label:0': [('i', 0.6416976476833183), ('regretful', 0.5226384683886478), ('feel', 0.3031504624580488), ('a', 0.2369962258090856), ('began', 0.18914790875996687), ('bit', 0.1761553580319319)], 'label:1': [('i', -2.0551431910862217), ('regretful', -1.728343411043562), ('bit', -1.2244138106566944), ('feel', -0.871211877923971), ('began', -0.5567046654300329), ('to', 0.4135375539586724)]}, {'sentence': 'i feel devastated disgusted and betrayed', 'label:0': [('i', 0.5155788521813633), ('devastated', 0.31935530708371723), ('feel', 0.28564233085412183), ('disgusted', 0.24619198947239296), ('betrayed', 0.21375873327148653), ('and', 0.09984867921377273)], 'label:1': [('i', -1.9696338551451487), ('devastated', -1.0879377194535051), ('disgusted', -0.8132696272032245), ('betrayed', -0.6607452428571815), ('feel', -0.6223882734267387), ('and', -0.06264167273703967)]}, {'sentence': 'i feel so pathetic and useless being unable to do anything', 'label:0': [('i', 0.7850694033112868), ('feel', 0.37603450048013976), ('being', 0.2984040990236499), ('anything', 0.23755791463002032), ('pathetic', 0.17890663484834143), ('so', 0.13463400881813967)], 'label:1': [('i', -1.6295010072539282), ('being', -0.6981281880216831), ('feel', -0.5013835245927246), ('anything', -0.3837725649558358), ('pathetic', -0.30239442369380704), ('so', -0.27452652116786974)]}, {'sentence': \"Faith. Can't believe I was named that at birth, would appreciate if I had more of it. There was a girl I met in the psych hospital 10 years older than me with the same name. She'd attempted suicide many times and she was just a shell of herself, an absolute wreck. I feel like every single day I creep closer and closer to becoming that.\", 'label:0': [('Faith', -0.4848594478877451), ('Can', -0.42234962690477884), ('There', 0.3842118228640826), ('birth', -0.2629868134608816), ('t', -0.25958759809880694), ('attempted', -0.23240436926646146)], 'label:1': [('Can', 0.11038726301820183), ('Faith', 0.09884296487725337), ('t', 0.07399365296874338), ('closer', 0.0672514376043572), ('There', -0.06705882335890778), ('birth', 0.056980489167516926)]}, {'sentence': 'im very hurt and i feel unimportant', 'label:0': [('unimportant', 0.2523774270641923), ('i', 0.24048433892114382), ('hurt', 0.22559007784819796), ('im', 0.21574745468459197), ('very', 0.1928412072483041), ('feel', 0.1162599782870165)], 'label:1': [('im', -1.0555075739211206), ('i', -0.9954684635748606), ('unimportant', -0.810848993079506), ('hurt', -0.7257650189451741), ('very', -0.7009505886745284), ('feel', -0.21166622149298786)]}, {'sentence': 'This is scary and so very sad. Eleven??? A baby! I was still building forts. I weep for this child.', 'label:0': [('I', 0.8378037327907106), ('Eleven', -0.5400340721245191), ('weep', 0.5158814410692055), ('This', 0.416016268368282), ('child', 0.40176831694903237), ('was', 0.28400889702727644)], 'label:1': [('I', -0.16633432525394207), ('Eleven', 0.13110053140576208), ('weep', -0.10702105360198694), ('This', -0.08016216113559618), ('child', -0.07952668011800383), ('was', -0.07064125852322407)]}, {'sentence': 'i have panic attacks when the phone rings and just feel so isolated', 'label:0': [('i', 1.0928826805096743), ('feel', 0.3643082905351681), ('have', -0.2290423140060306), ('isolated', 0.2223680291665133), ('so', 0.21612457140246413), ('phone', -0.17579477332958765)], 'label:1': [('i', -1.0786023280788977), ('feel', -0.5327903104090708), ('isolated', -0.3131296006968061), ('so', -0.27452969282293055), ('have', 0.2287505944823346), ('phone', 0.21799454007177194)]}, {'sentence': 'i feel so lousy but i shouldnt be focusing on me now', 'label:0': [('shouldnt', 0.9063452421618193), ('i', 0.3986522443875207), ('focusing', 0.25007020882391684), ('feel', 0.2304994540414562), ('now', -0.1765717544129446), ('lousy', -0.09140109652556469)], 'label:1': [('shouldnt', -1.033387150640299), ('i', -0.7852934319272105), ('lousy', 0.33884687680318476), ('focusing', -0.2621760922857703), ('feel', -0.21271213870523947), ('now', 0.19684477028359848)]}, {'sentence': 'i don t feel sorry for helen s camp going hungry anymore', 'label:0': [('i', 0.6188604479510275), ('sorry', 0.5901978833668359), ('for', 0.32432152290594446), ('feel', 0.3208483961397443), ('anymore', -0.2792535563144428), ('t', -0.2415824258172103)], 'label:1': [('i', -0.5483406700818622), ('sorry', -0.5296790850017035), ('t', 0.4493524706337444), ('feel', -0.3004476079471394), ('anymore', 0.2863984911729784), ('for', -0.24756850501710914)]}, {'sentence': 'i feel sorry for a href http bluestarlight', 'label:0': [('i', 0.5708355400555061), ('sorry', 0.4559756634872396), ('feel', 0.25943139576601854), ('bluestarlight', 0.20673379831096803), ('http', -0.1516178192636462), ('href', 0.0923715847622736)], 'label:1': [('i', -0.49183318467923043), ('sorry', -0.36010110985751126), ('http', 0.3033551711964093), ('feel', -0.2605207935211732), ('a', 0.22478703765469946), ('href', -0.04512516656635837)]}, {'sentence': \"I don't know what's wrong with me\", 'label:0': [('I', 0.7642948166612112), ('with', 0.32714950116819297), ('wrong', -0.25057291588829833), ('what', 0.20556582146260016), ('s', -0.11612885168673066), ('t', -0.09600505470357179)], 'label:1': [('I', -0.22186968395161155), ('what', -0.11509735672043239), ('know', -0.10578708404811626), ('with', -0.10195257863409445), ('wrong', 0.07810525480836984), ('me', 0.044515164470521736)]}, {'sentence': 'i just listened to ed and then after feeling regretful i just laid on the floor with a sore throat and my heart beating in strange rhythms', 'label:0': [('sore', 0.14154626701090192), ('feeling', 0.12541915942140325), ('after', 0.10946449745264634), ('just', -0.10631757701913494), ('the', 0.10606299104285162), ('strange', 0.09436163444731936)], 'label:1': [('just', 0.824295140125311), ('i', -0.5105142350875653), ('the', -0.505248229859666), ('sore', -0.4983797287642466), ('feeling', -0.49084770827357366), ('a', 0.287707032802441)]}, {'sentence': 'i feel so dirty but after spending a day at the mk show me and a buddy decided we would get the two player starter between us luckily for us both i liked the everblight and he liked the circle maybe a tad to much so it all worked out well', 'label:0': [('i', 0.15509809180586048), ('liked', 0.12556284995771186), ('spending', 0.1078084993229892), ('would', 0.10559641185853784), ('both', 0.09517058718520145), ('after', 0.07758519857926928)], 'label:1': [('liked', -0.724046554781158), ('i', -0.7037379202370267), ('spending', -0.6599753536248497), ('both', -0.46396898889232047), ('buddy', 0.38899897922078475), ('a', 0.30621520986714934)]}, {'sentence': 'Been dealing with depression for a while, but had been progressively getting better. Yesterday my brother committed suicide half the country away and I’m now on the road up to get him cremated. Life just throws you curve balls doesn’t it?', 'label:0': [('Yesterday', 0.6172259733120485), ('my', 0.4699352043988752), ('depression', 0.4472211542194537), ('had', 0.36354480963977), ('just', 0.3171332601582613), ('him', 0.25184559220458697)], 'label:1': [('Yesterday', -0.06987679109914076), ('my', -0.06867211297913621), ('had', -0.05082591459867447), ('just', -0.047561493281022875), ('depression', -0.04677757923412023), ('with', -0.03442374558856494)]}, {'sentence': 'I cba', 'label:0': [('cba', -1.0620449658942104), ('I', 0.6905890445985577)], 'label:1': [('cba', 0.2093572495069405), ('I', -0.09575387159298496)]}, {'sentence': 'hi please can i talk to someone im gonna kill myself im 17f', 'label:0': [('im', 0.9673324336098624), ('kill', -0.5551856528918245), ('please', 0.4589424395902562), ('hi', 0.411820760198944), ('gonna', -0.3391149652138554), ('17f', -0.19194795473350562)], 'label:1': [('im', -0.2984991750166262), ('kill', 0.28591611399437566), ('hi', -0.17960655259985747), ('please', -0.15228224199569587), ('gonna', 0.1309942166837441), ('17f', 0.07591704491338266)]}, {'sentence': 'i have been feeling very sad today and i dont know how to fix it', 'label:0': [('i', 0.44477900763336), ('dont', 0.3159440234952523), ('sad', 0.31119094327884084), ('very', 0.17441126404594212), ('feeling', 0.17386312543645172), ('fix', -0.16536352607130045)], 'label:1': [('i', -0.906756204379088), ('sad', -0.6146986374179053), ('dont', -0.5493356934327601), ('fix', 0.4382851681109981), ('feeling', -0.4021370179854423), ('very', -0.31694720298191176)]}, {'sentence': 'My last day', 'label:0': [('day', 0.8966096396702634), ('My', 0.1154802845967375), ('last', 0.04371044521852948)], 'label:1': [('day', -0.34142420559176023), ('last', -0.04256357500145232), ('My', -0.04189944024032338)]}, {'sentence': 'i first started using this i did not like it because i felt like it made my hair feel very dirty even though i had just washed my hair', 'label:0': [('though', 0.09847222495410016), ('i', 0.09643073598376227), ('hair', 0.08690278596476037), ('washed', 0.08015593854167521), ('did', 0.07029109346304713), ('felt', 0.06088194847517234)], 'label:1': [('washed', -0.8050488361993268), ('started', 0.7844313330765821), ('though', -0.7174978262640651), ('felt', -0.6549259719821072), ('did', -0.6526013401068085), ('had', -0.5739761538004062)]}, {'sentence': 'I try to be optimistic, but it just gets hard when all attempts to try are met with failure.', 'label:0': [('I', 1.1784537546091791), ('gets', -0.4394486162730197), ('with', 0.36458276264698564), ('try', -0.3474435262256087), ('attempts', 0.3150907355373944), ('hard', 0.21721646476517098)], 'label:1': [('I', -0.4739603242943966), ('try', 0.2635384266048859), ('gets', 0.2488109858803408), ('with', -0.21066002171780324), ('optimistic', 0.16478623243041865), ('attempts', -0.12820547208645686)]}, {'sentence': 'im kinda relieve but at the same time i feel disheartened', 'label:0': [('im', 0.2732637813322758), ('disheartened', 0.2536133599609838), ('at', 0.1404924351384079), ('same', 0.1305698492963166), ('i', 0.11583944684296853), ('kinda', 0.08634402424046575)], 'label:1': [('disheartened', -1.29714784435512), ('im', -1.1722875071642218), ('i', -0.5837068604862733), ('at', -0.4805199749238948), ('feel', -0.314878965202961), ('relieve', 0.14706807425427418)]}, {'sentence': 'I couldnt be with people and I didnt want to be alone.', 'label:0': [('I', 0.6422570421114994), ('didnt', 0.5799563073314284), ('couldnt', 0.27667349582371875), ('and', 0.1222287204040534), ('with', 0.0747061086497291), ('want', -0.06631416377773348)], 'label:1': [('I', -1.1139142708532996), ('didnt', -0.8212049458942319), ('be', 0.31631148015683747), ('and', -0.2466791462659733), ('couldnt', -0.1097074823207576), ('people', 0.09240180134002736)]}, {'sentence': 'i woke up feeling groggy and grumpy and like the last thing i wanted to do was make dinner', 'label:0': [('i', 1.4927017636195008), ('woke', -0.5694292648370228), ('dinner', 0.2643559112185017), ('feeling', 0.2634883284329378), ('and', -0.24418198477270428), ('up', -0.2352166218988995)], 'label:1': [('i', -1.1817418019043988), ('woke', 0.8623694247994245), ('feeling', -0.4147451834071802), ('and', 0.33461750241497046), ('was', 0.2765508043501585), ('dinner', -0.23216074707528375)]}, {'sentence': 'I have nothing, I am nothing', 'label:0': [('am', 0.500558195005871), ('I', 0.44445310762584606), ('have', -0.29401339587078135), ('nothing', -0.07401271374541958)], 'label:1': [('I', -0.11787030169120045), ('am', -0.10961556864917629), ('nothing', 0.08967176173832653), ('have', 0.07947442964209096)]}, {'sentence': \"When my boyfriend took me to his father's grave, it was unexplicably saddening.\", 'label:0': [('saddening', 0.5702299670927992), ('unexplicably', 0.45330949391067016), ('was', 0.36467879436116035), ('it', 0.3599600669619775), ('grave', -0.20536645358111746), ('boyfriend', -0.12807741364127131)], 'label:1': [('saddening', -1.0564435550379432), ('it', -0.7850376948665543), ('was', -0.6150166705916598), ('grave', 0.5408345262574075), ('my', -0.4180025464177604), ('boyfriend', 0.3239322321596926)]}, {'sentence': \"It's going all good, I'm feeling happy and all of a sudden I feel depressed. Idk what to do!? I am hating myself right now! Why does this happen? How do I deal with it?\", 'label:0': [('It', -0.2765163543171303), ('happy', 0.2518713583199727), ('I', 0.2387300262623776), ('all', -0.22925808919281043), ('Why', 0.20170176984434088), ('sudden', 0.18055604525144311)], 'label:1': [('It', 0.09715551744547289), ('s', 0.09674528036002565), ('I', -0.08537567455989463), ('happy', -0.06418270469843605), ('m', 0.051235501595052545), ('sudden', -0.04955209739893905)]}, {'sentence': 'i feel so regretful for things i cannot remember because i was so drunk', 'label:0': [('regretful', 0.3343295785724162), ('i', 0.3088363582672068), ('was', 0.18617175825924606), ('cannot', 0.16185075251223122), ('for', 0.1274998543541213), ('feel', 0.08754742261765469)], 'label:1': [('i', -1.077631417952176), ('regretful', -0.8400949873845028), ('was', -0.56398492747257), ('for', -0.45501481262135424), ('cannot', -0.36836770525785945), ('things', 0.26592671695797415)]}, {'sentence': \"I've been in a therapy for about 2 years now and it seems like I just got worse\", 'label:0': [('seems', 0.3910480583526995), ('worse', 0.37883904973533206), ('now', 0.2484269260392999), ('for', 0.24116039077049908), ('ve', -0.23849239333311706), ('got', -0.2371438933483591)], 'label:1': [('worse', -0.24657863897952195), ('ve', 0.23582882572388472), ('I', 0.20940656966098148), ('seems', -0.17580175339475473), ('now', -0.16168633538945926), ('therapy', -0.13566175168331626)]}, {'sentence': 'If I had a gun, I’d blow my fucking brains out right now', 'label:0': [('gun', -1.1031786725206392), ('If', 0.39488403898480845), ('had', 0.35901641845746196), ('blow', 0.35836516825121717), ('d', -0.3340732703799017), ('right', 0.3254908133556607)], 'label:1': [('gun', 0.06952973010307412), ('I', -0.025651508172991524), ('right', -0.022692195728507003), ('brains', 0.02106205777447174), ('d', 0.02014336972502794), ('out', 0.016400527539350077)]}, {'sentence': 'i was worried that maybe she was sleeping so well because she wasn t getting enough milk and was feeling lethargic', 'label:0': [('i', 0.5675205268227369), ('worried', 0.3802476114400517), ('was', 0.15472417320795817), ('feeling', 0.14329696744672707), ('well', 0.10083172121239307), ('sleeping', -0.08247994409653096)], 'label:1': [('i', -2.1880978967319114), ('worried', -1.5226064187136135), ('feeling', -0.6701297292176447), ('lethargic', -0.6413649470359772), ('was', -0.4790313664304899), ('milk', 0.33423200610587167)]}, {'sentence': 'Very likely he was simply lying on his bed in a state of dejection and , perhaps , of remorse for his massacre of \" the possessions \" which was now generally thought not to have been necessary .', 'label:0': [('he', 0.1600113468624945), ('was', 0.14929247065291928), ('possessions', 0.11126008478510102), ('Very', 0.08876911580580188), ('massacre', -0.08026926262623171), ('necessary', 0.07319383298807618)], 'label:1': [('was', -0.4089877361275745), ('simply', 0.38571184088549015), ('he', -0.34790743521525413), ('Very', -0.3314354842660348), ('likely', 0.32094486065627265), ('which', -0.2746714008924092)]}, {'sentence': 'i cry and feel heartbroken every month when i get my period', 'label:0': [('i', 0.6840510726691567), ('heartbroken', 0.43466704765494174), ('period', 0.26603918244740776), ('get', -0.23051150936682124), ('when', 0.1758445859454892), ('feel', 0.1591094129931538)], 'label:1': [('i', -0.9801834970746323), ('heartbroken', -0.6610188946116263), ('period', -0.4040069756247462), ('get', 0.31870301642324483), ('cry', 0.2918963686823776), ('feel', -0.2640086208838326)]}, {'sentence': 'i feel so stupid at how easily i cry these days', 'label:0': [('i', 0.6842561668649433), ('at', 0.2481017488877127), ('these', 0.21051262021032088), ('feel', 0.16589272296438873), ('cry', 0.13317405175349661), ('easily', 0.1113798536992386)], 'label:1': [('i', -1.7928953181434102), ('at', -0.8468285816680738), ('cry', -0.5732438208773742), ('how', -0.5057322258555943), ('feel', -0.40672285957855), ('days', 0.30496265953094864)]}, {'sentence': 'Have to be skinnier. Have to be prettier. Have to be smarter. Have to be anything But myself.', 'label:0': [('to', -0.949528556040239), ('Have', -0.8223748193309725), ('smarter', -0.4831986788275075), ('prettier', 0.4095647123609689), ('be', -0.2746503487786173), ('skinnier', 0.26696404091068265)], 'label:1': [('to', 0.03320583792113279), ('Have', 0.03137749669941166), ('smarter', 0.023467281413432243), ('prettier', -0.010702318467178364), ('be', 0.009378857236875976), ('anything', 0.008586791933505882)]}, {'sentence': 'i choose not to feel guilty unworthy or doubted', 'label:0': [('i', 0.9312569276860883), ('feel', 0.4319228863347723), ('guilty', 0.3810527910099255), ('unworthy', 0.31938916122416994), ('not', 0.3137859151430857), ('choose', -0.21990678217533455)], 'label:1': [('i', -1.0452846065630848), ('feel', -0.6887430838540207), ('guilty', -0.416882073557975), ('unworthy', -0.16982216798577374), ('not', -0.16948308993370823), ('or', 0.15486900307739782)]}, {'sentence': 'I’m never going to be the person I want to be', 'label:0': [('m', -0.3542726074536052), ('want', -0.2757064670538289), ('never', 0.24466245636563924), ('going', 0.23212878205548304), ('be', -0.13655137352818442), ('I', 0.11404841842309724)], 'label:1': [('m', 0.12062036087208232), ('want', 0.09505323091270865), ('never', -0.05902494330562454), ('going', -0.05691892656641736), ('I', -0.0431564431546799), ('be', 0.037083433254028395)]}, {'sentence': 'i feel as though i am boring or a bit dull because it is hard to keep up with her energy and i do not want her to get the wrong impression', 'label:0': [('i', 0.34753496189363015), ('impression', 0.14973370844178988), ('am', 0.14330373461051069), ('though', 0.14221958525874773), ('her', 0.13120875597492263), ('is', 0.12869242112016374)], 'label:1': [('i', -1.542552633766661), ('her', -0.5974122544162287), ('though', -0.5249541117314843), ('the', -0.5118013687978628), ('not', -0.4090167308610441), ('bit', -0.3930581921533611)]}, {'sentence': 'After finding a SSRI medication that works for you does your anxiety and/or depression come and go and if so how regularly?', 'label:0': [('you', 0.46671776498782575), ('your', 0.3558361734341133), ('works', -0.3150216137319378), ('regularly', 0.29689773718509205), ('medication', 0.25772806475982235), ('depression', 0.2392052293066521)], 'label:1': [('you', -0.08629944288933565), ('medication', -0.06593262419397859), ('regularly', -0.05603515939776154), ('your', -0.0558178248518555), ('a', 0.054392478152433706), ('works', 0.05331275498410608)]}, {'sentence': \"If possible suicide isn't worth effort, but life isn't worth it either, what's left\", 'label:0': [('s', -0.6512608971496189), ('isn', -0.5656435231049407), ('possible', 0.37203957274606503), ('what', -0.35821135684774397), ('it', 0.284285613234089), ('t', -0.23066654365162215)], 'label:1': [('s', 0.0974804267555312), ('what', 0.07890069318792581), ('isn', 0.028701204739121317), ('possible', -0.024909647111359613), ('it', -0.022821830685528257), ('but', -0.020183195631361672)]}, {'sentence': '“Only optimists commit suicide—optimists who no longer succeed at being optimists... The others, having no reason to live, why would they have any to die?” -Emil Cioran', 'label:0': [('optimists', -0.6995520541768989), ('suicide', -0.3910422339963097), ('commit', -0.38571982124892484), ('succeed', -0.26092236192019397), ('no', -0.2543163346891804), ('longer', -0.19851828491605558)], 'label:1': [('optimists', 0.1550382572178321), ('commit', 0.06450568445093047), ('no', 0.059050926485132736), ('suicide', 0.05083349347233753), ('why', 0.04119056327068552), ('live', 0.040493359569575185)]}, {'sentence': 'Need your help', 'label:0': [('Need', -0.4658407574037148), ('your', -0.14080712304650064), ('help', -0.055501782015976685)], 'label:1': [('Need', 0.05785729314393534), ('help', 0.02102224170421429), ('your', 0.015345597535088715)]}, {'sentence': 'i was feeling unhappy and i said no', 'label:0': [('i', 0.4789924121069458), ('unhappy', 0.4197624188224892), ('feeling', 0.2978216052952768), ('and', -0.1568240584985169), ('no', 0.04827702103416481), ('was', -0.03657065363509497)], 'label:1': [('i', -1.0066598880305178), ('unhappy', -0.8420875813467505), ('feeling', -0.7008046813198289), ('and', 0.6624681504278638), ('said', 0.4046599100532853), ('no', -0.37291295576549055)]}, {'sentence': 'i know that part of the problem is that i feel like i have become more boring and less of an interesting person since those days', 'label:0': [('i', 0.3666728540473561), ('that', 0.16416977185697568), ('the', 0.15217643810766593), ('interesting', 0.10397829949860632), ('feel', 0.1014774853138427), ('know', 0.08676441183610324)], 'label:1': [('i', -1.194410164838431), ('person', -0.3843494593632716), ('become', -0.38048371861615593), ('that', -0.36667640554557324), ('feel', -0.3619340637995231), ('those', -0.3375197900241718)]}, {'sentence': 'whenever i plead and try to tell people im trying as hard as i can, i get a hard \"no youre not\" if it doesnt seem like im trying anymore, why do i try? why try anymore?', 'label:0': [('im', 0.6814145336043848), ('i', 0.436254705083374), ('doesnt', 0.430160807587872), ('seem', 0.32769381378866497), ('why', 0.32283421547884417), ('can', -0.23437935763010123)], 'label:1': [('im', -0.3049658928536964), ('i', -0.21877285666154928), ('can', 0.18973068018080827), ('seem', -0.1693097331968479), ('doesnt', -0.15110712313882566), ('not', -0.13249203455061898)]}, {'sentence': \"It's in the back of my mind. I'm not sure I'll be ok. Not sure I can deal with this. I'll try...I will try. Even though it's hard to see the point. But...this still isn't off the table.\", 'label:0': [('ok', 0.7202327318430948), ('try', -0.440009523784772), ('not', -0.33008381791163266), ('with', 0.20323408234721324), ('s', -0.1840637845807094), ('mind', 0.17424944900793785)], 'label:1': [('ok', -0.07504877881020382), ('try', 0.04893002593344177), ('not', 0.04175676473369939), ('s', 0.029647124481583492), ('Not', 0.028443486045815022), ('sure', -0.027826170951604126)]}, {'sentence': 'is hanging too painful', 'label:0': [('hanging', -0.7627450172349699), ('too', -0.46471234933232003), ('is', -0.3068167220585839), ('painful', -0.10342912513421117)], 'label:1': [('hanging', 0.15210701772102714), ('too', 0.10905361730941465), ('is', 0.04187305256113835), ('painful', 0.02081003500361376)]}, {'sentence': 'im not feeling sorry for myself though because i just think of those poor people whom have lost their lives or everything they have due to sandy', 'label:0': [('though', 0.24370322553684332), ('im', 0.2227424268474993), ('sorry', 0.17360543993100236), ('whom', 0.11393739786065116), ('i', 0.09361935184611915), ('due', 0.09019229755225705)], 'label:1': [('though', -0.6473729024784063), ('im', -0.49421828014115515), ('sorry', -0.3492819718263301), ('whom', -0.32482269610584463), ('due', -0.2596827209886605), ('i', -0.2352366413604941)]}, {'sentence': \"I tried yesterday, I take almost 30 pills of sertralina, waking UP make me feel like trash, im done, I cut myself again trying to stop my head from runing but I can't, I Will try again tomorrow, this time ist gonna work, I hace 12 Years with this and its enought, love you all\", 'label:0': [('im', 0.9183644309241941), ('sertralina', 0.3212756614146205), ('done', 0.30097853862861185), ('feel', 0.2841740107130387), ('trying', 0.2818511337909619), ('tried', -0.20696005340201296)], 'label:1': [('im', -0.1883631877336291), ('done', -0.10185878413091654), ('feel', -0.0737577188163902), ('sertralina', -0.07369974037541827), ('Will', -0.05577287456960897), ('tried', 0.049487404667070675)]}, {'sentence': 'I felt sad when my first boyfriend and I left each other. It was neither his fault nor mine.', 'label:0': [('I', 0.5487195466573179), ('It', 0.5456786350753918), ('sad', 0.2825716125603627), ('other', -0.20635601372682047), ('nor', 0.15557647042451747), ('left', -0.13758920209270317)], 'label:1': [('I', -0.8322858290429647), ('It', -0.6757148356165213), ('sad', -0.5720725351482797), ('left', 0.4161794230165024), ('boyfriend', 0.3398916003825458), ('felt', -0.3195900981463155)]}, {'sentence': 'i have to be honest and say that the first two chapters sort of overwhelmed me and i wasnt sure that i was going to be able to follow everything and was feeling kind of dumb', 'label:0': [('honest', 0.16180257855353736), ('wasnt', 0.14938016047961958), ('feeling', 0.13022580517172833), ('i', 0.07389553469956851), ('two', 0.07366979845044576), ('the', 0.06244703047656748)], 'label:1': [('wasnt', -0.7017086315567846), ('honest', -0.6161288701089888), ('and', 0.48750085335429266), ('i', -0.48442826634455766), ('the', -0.3928420137548924), ('feeling', -0.3919327849695158)]}, {'sentence': 'i feel regretful over what happened with us', 'label:0': [('regretful', 0.8076123879451256), ('i', 0.4554533000020661), ('feel', 0.3712661373631218), ('with', 0.28011264694785154), ('happened', 0.14620436374665355), ('us', 0.12982449009007285)], 'label:1': [('regretful', -1.9856145605808906), ('i', -1.2361897183245887), ('feel', -0.6755052893928648), ('with', -0.5194456483808818), ('happened', -0.3059998296022684), ('us', -0.16153776844380735)]}, {'sentence': \"Nice knowing you all I'm finally coming home Mara and Tara ❤️\", 'label:0': [('and', 0.22165409609920086), ('Nice', 0.20421565806411324), ('knowing', 0.2012176971190168), ('Mara', 0.16952388739349397), ('m', -0.14503497630257733), ('Tara', 0.12153211378360783)], 'label:1': [('and', -0.5680636125285148), ('knowing', -0.4753567503500331), ('m', 0.3905289736643365), ('Nice', -0.33819840327994694), ('Mara', -0.2218820974006034), ('coming', 0.12336653429643031)]}, {'sentence': 'i feel guilty a little and also mildly worried but not bad enough to actually pursue anything', 'label:0': [('i', 0.4357690046592714), ('also', 0.13121249993845688), ('guilty', 0.1051302754085513), ('worried', 0.1004704300247641), ('feel', 0.07721869228759345), ('pursue', -0.07535347653264861)], 'label:1': [('i', -2.15019023419695), ('guilty', -0.639032931792625), ('also', -0.3977249220212601), ('little', -0.38800870937405124), ('pursue', 0.3577768168753059), ('enough', 0.3176652854145392)]}, {'sentence': 'There must be another reason why you are so sad , \" he said , looking kindly at me .', 'label:0': [('There', 0.09565186169065745), ('kindly', 0.09070751202345755), ('said', 0.08492519589812235), ('he', 0.08434262585768036), ('looking', 0.07139566065094224), ('sad', 0.06276369062415718)], 'label:1': [('kindly', -1.426844292199284), ('sad', -0.8765302017624047), ('he', -0.7874618120428695), ('There', -0.7424678572983433), ('at', -0.6188138162195924), ('looking', -0.5935796786274177)]}, {'sentence': 'i feel stupid because i didnt buy in sooner', 'label:0': [('didnt', 1.1177145213040354), ('i', 0.6430000158275938), ('feel', 0.275867274023467), ('buy', -0.23694804338776754), ('stupid', 0.1814280089532887), ('sooner', -0.13827344158143795)], 'label:1': [('didnt', -1.3481095775914793), ('i', -0.7366675340566502), ('feel', -0.2647681189147823), ('buy', 0.24505414077952742), ('sooner', 0.19830154891628946), ('stupid', -0.18177714000893636)]}, {'sentence': 'i feel less than and isolated', 'label:0': [('isolated', 0.6254808861864378), ('i', 0.5607737173252414), ('feel', 0.32747564639401167), ('less', 0.14593862900411722), ('than', 0.07447946672158832), ('and', -0.028859511083450955)], 'label:1': [('isolated', -0.8260930039605575), ('i', -0.7042212815916197), ('feel', -0.5563880768409107), ('less', 0.171956054998177), ('than', -0.14693782846772618), ('and', 0.03720639854050195)]}, {'sentence': 'i am feeling most disheartened this week', 'label:0': [('disheartened', 0.5632884711211454), ('i', 0.4462997200197439), ('feeling', 0.3279621292758001), ('most', 0.17964303549492094), ('am', 0.11877350633631359), ('week', -0.04999725383137109)], 'label:1': [('disheartened', -1.805592932948653), ('i', -1.5367377894953136), ('week', 0.9800556711561498), ('feeling', -0.8455980794468574), ('most', -0.6524772889163906), ('am', -0.38716824443300646)]}, {'sentence': 'i would really like to think this is all going to work out and that there was just some mistake made but im feeling pretty doomed here', 'label:0': [('i', 0.34801373246121364), ('feeling', 0.3189225283931738), ('would', 0.22817966296433814), ('im', 0.21622497073679384), ('doomed', -0.1679530002774729), ('pretty', 0.11490335195677623)], 'label:1': [('feeling', -0.7216619874179545), ('i', -0.6816171733806872), ('would', -0.47159582904267583), ('doomed', 0.46034654492748084), ('im', -0.2152035736708731), ('here', 0.1403013905932221)]}, {'sentence': \"I have been asked multiple times if I'm okay or if I'll go to somebody if I'm not. Without failure the I say that I'm fine or that I will. I know full well that I won't go to them, and I hate that fact.\", 'label:0': [('I', 0.7510857405806051), ('asked', 0.46974959650440035), ('m', -0.29805734326589944), ('failure', -0.2538074988072715), ('have', 0.25170741795542056), ('somebody', -0.19821056060592465)], 'label:1': [('I', -0.1257253900507923), ('asked', -0.09185287587897038), ('somebody', 0.06937929365396951), ('m', 0.05224058539513753), ('won', -0.045986700130673984), ('ll', 0.04246907895867487)]}, {'sentence': \"when you try your best but you don't suceed!!!Sad alone tears b bored boredtodeath\", 'label:0': [('tears', 0.5926518419040828), ('Sad', 0.31185092301624684), ('but', 0.2948407570602038), ('b', -0.26420510576328504), ('boredtodeath', -0.2162196112840445), ('try', -0.09788765007017282)], 'label:1': [('tears', -0.13230463610188992), ('b', 0.10405493788493571), ('boredtodeath', 0.08413586634904534), ('Sad', -0.07058947572007974), ('but', -0.06669992435837366), ('bored', 0.0309271753787775)]}, {'sentence': \"this year was fuckd up I can't wait for it to be over I hated this year still depressed hard time getting over it ????????? fuck this\", 'label:0': [('this', 0.5171567805197397), ('I', 0.5135592006716289), ('hated', 0.49231992852032885), ('depressed', 0.3771665339325581), ('was', 0.33948537105814275), ('can', 0.3254535758139003)], 'label:1': [('I', -0.04641481568292366), ('this', -0.04543603933322697), ('can', -0.03844255607457158), ('depressed', -0.03485272245783897), ('hated', -0.0340465970769688), ('was', -0.030300767564283654)]}, {'sentence': 'I have nothing to say, other than this is the end.', 'label:0': [('I', 1.1406768593339167), ('end', -0.8392874798559111), ('say', 0.47387948116199774), ('other', 0.38576061545720164), ('have', -0.2927193829966843), ('this', 0.2593377580760606)], 'label:1': [('end', 0.3878682994053016), ('I', -0.36221200723882485), ('say', -0.1732464797201585), ('other', -0.10374109982527341), ('than', -0.09515688814401214), ('is', -0.0911302306579536)]}, {'sentence': 'Sometimes love is so painful it eats you up until your nothing', 'label:0': [('painful', 0.4682116081805835), ('love', 0.37687237377403204), ('Sometimes', 0.28768913058415574), ('your', 0.2704824358672846), ('until', 0.2642738065581392), ('up', -0.15526617959311068)], 'label:1': [('painful', -0.30531664685301707), ('love', -0.2853308218765804), ('Sometimes', -0.21189583014280128), ('until', -0.17219139742405454), ('you', 0.12343392682926171), ('your', -0.11646332059448669)]}, {'sentence': 'ive been doing hour weeks and ill get paid for the extra time but i am starting to feel a bit abused they are putting a lot of pressure on me to look after both kids and do all of the cooking and cleaning', 'label:0': [('ive', 0.15993798221772787), ('feel', 0.12139154793673217), ('i', 0.09358834289263188), ('cleaning', 0.08230465884407158), ('putting', 0.08110101591632458), ('the', 0.06795544959779588)], 'label:1': [('ive', -0.5496334622866149), ('feel', -0.5250192783562164), ('the', -0.4941107564169659), ('i', -0.30543012003387454), ('but', -0.258554739114321), ('both', -0.23742632118447451)]}]\n"
          ]
        }
      ]
    }
  ]
}